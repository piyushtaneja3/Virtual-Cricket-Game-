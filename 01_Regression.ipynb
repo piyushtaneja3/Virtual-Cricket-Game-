{
  "cells": [
    {
      "cell_type": "markdown",
      "metadata": {
        "id": "view-in-github",
        "colab_type": "text"
      },
      "source": [
        "<a href=\"https://colab.research.google.com/github/piyushtaneja3/Virtual-Cricket-Game-/blob/main/01_Regression.ipynb\" target=\"_parent\"><img src=\"https://colab.research.google.com/assets/colab-badge.svg\" alt=\"Open In Colab\"/></a>"
      ]
    },
    {
      "cell_type": "markdown",
      "metadata": {
        "id": "7nQSRI4Dim1Y"
      },
      "source": [
        "---\n",
        "# **PyCaret for Regression**\n",
        "---\n",
        "- It is a bundle of many Machine Learning algorithms.\n",
        "- Only three lines of code is required to compare 20 ML models.\n",
        "- Pycaret is available for:\n",
        "    - Classification\n",
        "    - Regression\n",
        "    - Clustering\n",
        "---\n",
        "\n",
        "### **Self learning resource**\n",
        "1. Tutorial on Pycaret **<a href=\"https://pycaret.readthedocs.io/en/latest/tutorials.html\" target=\"_blank\"> Click Here</a>**\n",
        "\n",
        "2. Documentation on Pycaret-Regression: **<a href=\"https://pycaret.readthedocs.io/en/latest/tutorials.html#regression\" target=\"_blank\"> Click Here </a>**\n",
        "\n",
        "---\n",
        "\n",
        "### **In this tutorial we will learn:**\n",
        "\n",
        "- Getting Data\n",
        "- Setting up Environment\n",
        "- Create Model\n",
        "- Tune Model\n",
        "- Plot Model\n",
        "- Finalize Model\n",
        "- Predict Model\n",
        "- Save / Load Model\n",
        "---\n",
        "\n"
      ]
    },
    {
      "cell_type": "markdown",
      "metadata": {
        "id": "A30y-VtNim1h"
      },
      "source": [
        "### **(a) Install Pycaret**"
      ]
    },
    {
      "cell_type": "code",
      "source": [
        "!pip install --force-reinstall --no-cache-dir numpy==1.26.4 scipy==1.11.4 pandas==1.5.3\n",
        "\n",
        "# This installation will ask for Restart the session; Click on \"Restart Session\"\n"
      ],
      "metadata": {
        "id": "0Af95laBO6PH",
        "colab": {
          "base_uri": "https://localhost:8080/",
          "height": 1000
        },
        "outputId": "bd2a9f21-f584-4ce3-dd8c-139bc9426e72"
      },
      "execution_count": 1,
      "outputs": [
        {
          "output_type": "stream",
          "name": "stdout",
          "text": [
            "Collecting numpy==1.26.4\n",
            "  Downloading numpy-1.26.4-cp311-cp311-manylinux_2_17_x86_64.manylinux2014_x86_64.whl.metadata (61 kB)\n",
            "\u001b[2K     \u001b[90m━━━━━━━━━━━━━━━━━━━━━━━━━━━━━━━━━━━━━━━━\u001b[0m \u001b[32m61.0/61.0 kB\u001b[0m \u001b[31m15.9 MB/s\u001b[0m eta \u001b[36m0:00:00\u001b[0m\n",
            "\u001b[?25hCollecting scipy==1.11.4\n",
            "  Downloading scipy-1.11.4-cp311-cp311-manylinux_2_17_x86_64.manylinux2014_x86_64.whl.metadata (60 kB)\n",
            "\u001b[2K     \u001b[90m━━━━━━━━━━━━━━━━━━━━━━━━━━━━━━━━━━━━━━━\u001b[0m \u001b[32m60.4/60.4 kB\u001b[0m \u001b[31m152.0 MB/s\u001b[0m eta \u001b[36m0:00:00\u001b[0m\n",
            "\u001b[?25hCollecting pandas==1.5.3\n",
            "  Downloading pandas-1.5.3-cp311-cp311-manylinux_2_17_x86_64.manylinux2014_x86_64.whl.metadata (11 kB)\n",
            "Collecting python-dateutil>=2.8.1 (from pandas==1.5.3)\n",
            "  Downloading python_dateutil-2.9.0.post0-py2.py3-none-any.whl.metadata (8.4 kB)\n",
            "Collecting pytz>=2020.1 (from pandas==1.5.3)\n",
            "  Downloading pytz-2025.2-py2.py3-none-any.whl.metadata (22 kB)\n",
            "Collecting six>=1.5 (from python-dateutil>=2.8.1->pandas==1.5.3)\n",
            "  Downloading six-1.17.0-py2.py3-none-any.whl.metadata (1.7 kB)\n",
            "Downloading numpy-1.26.4-cp311-cp311-manylinux_2_17_x86_64.manylinux2014_x86_64.whl (18.3 MB)\n",
            "\u001b[2K   \u001b[90m━━━━━━━━━━━━━━━━━━━━━━━━━━━━━━━━━━━━━━━━\u001b[0m \u001b[32m18.3/18.3 MB\u001b[0m \u001b[31m104.4 MB/s\u001b[0m eta \u001b[36m0:00:00\u001b[0m\n",
            "\u001b[?25hDownloading scipy-1.11.4-cp311-cp311-manylinux_2_17_x86_64.manylinux2014_x86_64.whl (36.4 MB)\n",
            "\u001b[2K   \u001b[90m━━━━━━━━━━━━━━━━━━━━━━━━━━━━━━━━━━━━━━━━\u001b[0m \u001b[32m36.4/36.4 MB\u001b[0m \u001b[31m94.2 MB/s\u001b[0m eta \u001b[36m0:00:00\u001b[0m\n",
            "\u001b[?25hDownloading pandas-1.5.3-cp311-cp311-manylinux_2_17_x86_64.manylinux2014_x86_64.whl (12.0 MB)\n",
            "\u001b[2K   \u001b[90m━━━━━━━━━━━━━━━━━━━━━━━━━━━━━━━━━━━━━━━━\u001b[0m \u001b[32m12.0/12.0 MB\u001b[0m \u001b[31m119.7 MB/s\u001b[0m eta \u001b[36m0:00:00\u001b[0m\n",
            "\u001b[?25hDownloading python_dateutil-2.9.0.post0-py2.py3-none-any.whl (229 kB)\n",
            "\u001b[2K   \u001b[90m━━━━━━━━━━━━━━━━━━━━━━━━━━━━━━━━━━━━━━━\u001b[0m \u001b[32m229.9/229.9 kB\u001b[0m \u001b[31m209.2 MB/s\u001b[0m eta \u001b[36m0:00:00\u001b[0m\n",
            "\u001b[?25hDownloading pytz-2025.2-py2.py3-none-any.whl (509 kB)\n",
            "\u001b[2K   \u001b[90m━━━━━━━━━━━━━━━━━━━━━━━━━━━━━━━━━━━━━━━\u001b[0m \u001b[32m509.2/509.2 kB\u001b[0m \u001b[31m242.3 MB/s\u001b[0m eta \u001b[36m0:00:00\u001b[0m\n",
            "\u001b[?25hDownloading six-1.17.0-py2.py3-none-any.whl (11 kB)\n",
            "Installing collected packages: pytz, six, numpy, scipy, python-dateutil, pandas\n",
            "  Attempting uninstall: pytz\n",
            "    Found existing installation: pytz 2025.2\n",
            "    Uninstalling pytz-2025.2:\n",
            "      Successfully uninstalled pytz-2025.2\n",
            "  Attempting uninstall: six\n",
            "    Found existing installation: six 1.17.0\n",
            "    Uninstalling six-1.17.0:\n",
            "      Successfully uninstalled six-1.17.0\n",
            "  Attempting uninstall: numpy\n",
            "    Found existing installation: numpy 2.0.2\n",
            "    Uninstalling numpy-2.0.2:\n",
            "      Successfully uninstalled numpy-2.0.2\n",
            "  Attempting uninstall: scipy\n",
            "    Found existing installation: scipy 1.15.3\n",
            "    Uninstalling scipy-1.15.3:\n",
            "      Successfully uninstalled scipy-1.15.3\n",
            "  Attempting uninstall: python-dateutil\n",
            "    Found existing installation: python-dateutil 2.9.0.post0\n",
            "    Uninstalling python-dateutil-2.9.0.post0:\n",
            "      Successfully uninstalled python-dateutil-2.9.0.post0\n",
            "  Attempting uninstall: pandas\n",
            "    Found existing installation: pandas 2.2.2\n",
            "    Uninstalling pandas-2.2.2:\n",
            "      Successfully uninstalled pandas-2.2.2\n",
            "\u001b[31mERROR: pip's dependency resolver does not currently take into account all the packages that are installed. This behaviour is the source of the following dependency conflicts.\n",
            "google-colab 1.0.0 requires pandas==2.2.2, but you have pandas 1.5.3 which is incompatible.\n",
            "thinc 8.3.6 requires numpy<3.0.0,>=2.0.0, but you have numpy 1.26.4 which is incompatible.\n",
            "xarray 2025.3.1 requires pandas>=2.1, but you have pandas 1.5.3 which is incompatible.\n",
            "tsfresh 0.21.0 requires scipy>=1.14.0; python_version >= \"3.10\", but you have scipy 1.11.4 which is incompatible.\n",
            "dask-expr 1.1.21 requires pandas>=2, but you have pandas 1.5.3 which is incompatible.\n",
            "cudf-cu12 25.2.1 requires pandas<2.2.4dev0,>=2.0, but you have pandas 1.5.3 which is incompatible.\n",
            "plotnine 0.14.6 requires pandas>=2.2.0, but you have pandas 1.5.3 which is incompatible.\n",
            "dask-cudf-cu12 25.2.2 requires pandas<2.2.4dev0,>=2.0, but you have pandas 1.5.3 which is incompatible.\n",
            "opencv-python-headless 4.12.0.88 requires numpy<2.3.0,>=2; python_version >= \"3.9\", but you have numpy 1.26.4 which is incompatible.\n",
            "mizani 0.13.5 requires pandas>=2.2.0, but you have pandas 1.5.3 which is incompatible.\u001b[0m\u001b[31m\n",
            "\u001b[0mSuccessfully installed numpy-1.26.4 pandas-1.5.3 python-dateutil-2.9.0.post0 pytz-2025.2 scipy-1.11.4 six-1.17.0\n"
          ]
        },
        {
          "output_type": "display_data",
          "data": {
            "application/vnd.colab-display-data+json": {
              "pip_warning": {
                "packages": [
                  "dateutil",
                  "numpy",
                  "six"
                ]
              },
              "id": "4d21846f531b4094b68c004cc2aeed14"
            }
          },
          "metadata": {}
        }
      ]
    },
    {
      "cell_type": "code",
      "source": [
        "!pip install pycaret &> /dev/null\n",
        "print (\"Pycaret installed sucessfully!!\")\n",
        "\n",
        "from pycaret.datasets import get_data\n",
        "all_datasets = get_data('index')"
      ],
      "metadata": {
        "colab": {
          "base_uri": "https://localhost:8080/",
          "height": 1000
        },
        "id": "CdeBUv2jQZ1l",
        "outputId": "1289e8a0-dd90-4d03-bf2f-45ed8d37089e"
      },
      "execution_count": 4,
      "outputs": [
        {
          "output_type": "stream",
          "name": "stdout",
          "text": [
            "Pycaret installed sucessfully!!\n"
          ]
        },
        {
          "output_type": "display_data",
          "data": {
            "text/plain": [
              "                             Dataset    Data Types  \\\n",
              "0                            anomaly  Multivariate   \n",
              "1                             france  Multivariate   \n",
              "2                            germany  Multivariate   \n",
              "3                               bank  Multivariate   \n",
              "4                              blood  Multivariate   \n",
              "5                             cancer  Multivariate   \n",
              "6                             credit  Multivariate   \n",
              "7                           diabetes  Multivariate   \n",
              "8                    electrical_grid  Multivariate   \n",
              "9                           employee  Multivariate   \n",
              "10                             heart  Multivariate   \n",
              "11                     heart_disease  Multivariate   \n",
              "12                         hepatitis  Multivariate   \n",
              "13                            income  Multivariate   \n",
              "14                             juice  Multivariate   \n",
              "15                               nba  Multivariate   \n",
              "16                              wine  Multivariate   \n",
              "17                         telescope  Multivariate   \n",
              "18                           titanic  Multivariate   \n",
              "19  us_presidential_election_results  Multivariate   \n",
              "20                             glass  Multivariate   \n",
              "21                              iris  Multivariate   \n",
              "22                             poker  Multivariate   \n",
              "23                         questions  Multivariate   \n",
              "24                         satellite  Multivariate   \n",
              "25                               CTG  Multivariate   \n",
              "26                          asia_gdp  Multivariate   \n",
              "27                         elections  Multivariate   \n",
              "28                          facebook  Multivariate   \n",
              "29                               ipl  Multivariate   \n",
              "30                         jewellery  Multivariate   \n",
              "31                              mice  Multivariate   \n",
              "32                         migration  Multivariate   \n",
              "33                           perfume  Multivariate   \n",
              "34                           pokemon  Multivariate   \n",
              "35                        population  Multivariate   \n",
              "36                     public_health  Multivariate   \n",
              "37                             seeds  Multivariate   \n",
              "38                         wholesale  Multivariate   \n",
              "39                            tweets          Text   \n",
              "40                            amazon          Text   \n",
              "41                              kiva          Text   \n",
              "42                               spx          Text   \n",
              "43                         wikipedia          Text   \n",
              "44                        automobile  Multivariate   \n",
              "45                              bike  Multivariate   \n",
              "46                            boston  Multivariate   \n",
              "47                          concrete  Multivariate   \n",
              "48                           diamond  Multivariate   \n",
              "49                            energy  Multivariate   \n",
              "50                            forest  Multivariate   \n",
              "51                              gold  Multivariate   \n",
              "52                             house  Multivariate   \n",
              "53                         insurance  Multivariate   \n",
              "54                        parkinsons  Multivariate   \n",
              "55                           traffic  Multivariate   \n",
              "\n",
              "                   Default Task Target Variable 1 Target Variable 2  \\\n",
              "0             Anomaly Detection              None              None   \n",
              "1       Association Rule Mining         InvoiceNo       Description   \n",
              "2       Association Rule Mining         InvoiceNo       Description   \n",
              "3       Classification (Binary)           deposit              None   \n",
              "4       Classification (Binary)             Class              None   \n",
              "5       Classification (Binary)             Class              None   \n",
              "6       Classification (Binary)           default              None   \n",
              "7       Classification (Binary)    Class variable              None   \n",
              "8       Classification (Binary)             stabf              None   \n",
              "9       Classification (Binary)              left              None   \n",
              "10      Classification (Binary)             DEATH              None   \n",
              "11      Classification (Binary)           Disease              None   \n",
              "12      Classification (Binary)             Class              None   \n",
              "13      Classification (Binary)       income >50K              None   \n",
              "14      Classification (Binary)          Purchase              None   \n",
              "15      Classification (Binary)       TARGET_5Yrs              None   \n",
              "16      Classification (Binary)              type              None   \n",
              "17      Classification (Binary)             Class              None   \n",
              "18      Classification (Binary)          Survived              None   \n",
              "19      Classification (Binary)      party_winner              None   \n",
              "20  Classification (Multiclass)              Type              None   \n",
              "21  Classification (Multiclass)           species              None   \n",
              "22  Classification (Multiclass)             CLASS              None   \n",
              "23  Classification (Multiclass)     Next_Question              None   \n",
              "24  Classification (Multiclass)             Class              None   \n",
              "25  Classification (Multiclass)               NSP              None   \n",
              "26                   Clustering              None              None   \n",
              "27                   Clustering              None              None   \n",
              "28                   Clustering              None              None   \n",
              "29                   Clustering              None              None   \n",
              "30                   Clustering              None              None   \n",
              "31                   Clustering              None              None   \n",
              "32                   Clustering              None              None   \n",
              "33                   Clustering              None              None   \n",
              "34                   Clustering              None              None   \n",
              "35                   Clustering              None              None   \n",
              "36                   Clustering              None              None   \n",
              "37                   Clustering              None              None   \n",
              "38                   Clustering              None              None   \n",
              "39                          NLP             tweet              None   \n",
              "40         NLP / Classification        reviewText              None   \n",
              "41         NLP / Classification                en              None   \n",
              "42             NLP / Regression              text              None   \n",
              "43         NLP / Classification              Text              None   \n",
              "44                   Regression             price              None   \n",
              "45                   Regression               cnt              None   \n",
              "46                   Regression              medv              None   \n",
              "47                   Regression          strength              None   \n",
              "48                   Regression             Price              None   \n",
              "49                   Regression      Heating Load      Cooling Load   \n",
              "50                   Regression              area              None   \n",
              "51                   Regression         Gold_T+22              None   \n",
              "52                   Regression         SalePrice              None   \n",
              "53                   Regression           charges              None   \n",
              "54                   Regression               PPE              None   \n",
              "55                   Regression    traffic_volume              None   \n",
              "\n",
              "    # Instances  # Attributes Missing Values  \n",
              "0          1000            10              N  \n",
              "1          8557             8              N  \n",
              "2          9495             8              N  \n",
              "3         45211            17              N  \n",
              "4           748             5              N  \n",
              "5           683            10              N  \n",
              "6         24000            24              N  \n",
              "7           768             9              N  \n",
              "8         10000            14              N  \n",
              "9         14999            10              N  \n",
              "10          200            16              N  \n",
              "11          270            14              N  \n",
              "12          154            32              Y  \n",
              "13        32561            14              Y  \n",
              "14         1070            15              N  \n",
              "15         1340            21              N  \n",
              "16         6498            13              N  \n",
              "17        19020            11              N  \n",
              "18          891            11              Y  \n",
              "19          497             7              N  \n",
              "20          214            10              N  \n",
              "21          150             5              N  \n",
              "22       100000            11              N  \n",
              "23          499             4              N  \n",
              "24         6435            37              N  \n",
              "25         2129            40              Y  \n",
              "26           40            11              N  \n",
              "27         3195            54              Y  \n",
              "28         7050            12              N  \n",
              "29          153            25              N  \n",
              "30          505             4              N  \n",
              "31         1080            82              Y  \n",
              "32          233            12              N  \n",
              "33           20            29              N  \n",
              "34          800            13              Y  \n",
              "35          255            56              Y  \n",
              "36          224            21              N  \n",
              "37          210             7              N  \n",
              "38          440             8              N  \n",
              "39         8594             2              N  \n",
              "40        20000             2              N  \n",
              "41         6818             7              N  \n",
              "42          874             4              N  \n",
              "43          500             3              N  \n",
              "44          202            26              Y  \n",
              "45        17379            15              N  \n",
              "46          506            14              N  \n",
              "47         1030             9              N  \n",
              "48         6000             8              N  \n",
              "49          768            10              N  \n",
              "50          517            13              N  \n",
              "51         2558           121              N  \n",
              "52         1461            81              Y  \n",
              "53         1338             7              N  \n",
              "54         5875            22              N  \n",
              "55        48204             8              N  "
            ],
            "text/html": [
              "\n",
              "  <div id=\"df-d46717fb-2c33-4c49-a85c-2cfe82e27364\" class=\"colab-df-container\">\n",
              "    <div>\n",
              "<style scoped>\n",
              "    .dataframe tbody tr th:only-of-type {\n",
              "        vertical-align: middle;\n",
              "    }\n",
              "\n",
              "    .dataframe tbody tr th {\n",
              "        vertical-align: top;\n",
              "    }\n",
              "\n",
              "    .dataframe thead th {\n",
              "        text-align: right;\n",
              "    }\n",
              "</style>\n",
              "<table border=\"1\" class=\"dataframe\">\n",
              "  <thead>\n",
              "    <tr style=\"text-align: right;\">\n",
              "      <th></th>\n",
              "      <th>Dataset</th>\n",
              "      <th>Data Types</th>\n",
              "      <th>Default Task</th>\n",
              "      <th>Target Variable 1</th>\n",
              "      <th>Target Variable 2</th>\n",
              "      <th># Instances</th>\n",
              "      <th># Attributes</th>\n",
              "      <th>Missing Values</th>\n",
              "    </tr>\n",
              "  </thead>\n",
              "  <tbody>\n",
              "    <tr>\n",
              "      <th>0</th>\n",
              "      <td>anomaly</td>\n",
              "      <td>Multivariate</td>\n",
              "      <td>Anomaly Detection</td>\n",
              "      <td>None</td>\n",
              "      <td>None</td>\n",
              "      <td>1000</td>\n",
              "      <td>10</td>\n",
              "      <td>N</td>\n",
              "    </tr>\n",
              "    <tr>\n",
              "      <th>1</th>\n",
              "      <td>france</td>\n",
              "      <td>Multivariate</td>\n",
              "      <td>Association Rule Mining</td>\n",
              "      <td>InvoiceNo</td>\n",
              "      <td>Description</td>\n",
              "      <td>8557</td>\n",
              "      <td>8</td>\n",
              "      <td>N</td>\n",
              "    </tr>\n",
              "    <tr>\n",
              "      <th>2</th>\n",
              "      <td>germany</td>\n",
              "      <td>Multivariate</td>\n",
              "      <td>Association Rule Mining</td>\n",
              "      <td>InvoiceNo</td>\n",
              "      <td>Description</td>\n",
              "      <td>9495</td>\n",
              "      <td>8</td>\n",
              "      <td>N</td>\n",
              "    </tr>\n",
              "    <tr>\n",
              "      <th>3</th>\n",
              "      <td>bank</td>\n",
              "      <td>Multivariate</td>\n",
              "      <td>Classification (Binary)</td>\n",
              "      <td>deposit</td>\n",
              "      <td>None</td>\n",
              "      <td>45211</td>\n",
              "      <td>17</td>\n",
              "      <td>N</td>\n",
              "    </tr>\n",
              "    <tr>\n",
              "      <th>4</th>\n",
              "      <td>blood</td>\n",
              "      <td>Multivariate</td>\n",
              "      <td>Classification (Binary)</td>\n",
              "      <td>Class</td>\n",
              "      <td>None</td>\n",
              "      <td>748</td>\n",
              "      <td>5</td>\n",
              "      <td>N</td>\n",
              "    </tr>\n",
              "    <tr>\n",
              "      <th>5</th>\n",
              "      <td>cancer</td>\n",
              "      <td>Multivariate</td>\n",
              "      <td>Classification (Binary)</td>\n",
              "      <td>Class</td>\n",
              "      <td>None</td>\n",
              "      <td>683</td>\n",
              "      <td>10</td>\n",
              "      <td>N</td>\n",
              "    </tr>\n",
              "    <tr>\n",
              "      <th>6</th>\n",
              "      <td>credit</td>\n",
              "      <td>Multivariate</td>\n",
              "      <td>Classification (Binary)</td>\n",
              "      <td>default</td>\n",
              "      <td>None</td>\n",
              "      <td>24000</td>\n",
              "      <td>24</td>\n",
              "      <td>N</td>\n",
              "    </tr>\n",
              "    <tr>\n",
              "      <th>7</th>\n",
              "      <td>diabetes</td>\n",
              "      <td>Multivariate</td>\n",
              "      <td>Classification (Binary)</td>\n",
              "      <td>Class variable</td>\n",
              "      <td>None</td>\n",
              "      <td>768</td>\n",
              "      <td>9</td>\n",
              "      <td>N</td>\n",
              "    </tr>\n",
              "    <tr>\n",
              "      <th>8</th>\n",
              "      <td>electrical_grid</td>\n",
              "      <td>Multivariate</td>\n",
              "      <td>Classification (Binary)</td>\n",
              "      <td>stabf</td>\n",
              "      <td>None</td>\n",
              "      <td>10000</td>\n",
              "      <td>14</td>\n",
              "      <td>N</td>\n",
              "    </tr>\n",
              "    <tr>\n",
              "      <th>9</th>\n",
              "      <td>employee</td>\n",
              "      <td>Multivariate</td>\n",
              "      <td>Classification (Binary)</td>\n",
              "      <td>left</td>\n",
              "      <td>None</td>\n",
              "      <td>14999</td>\n",
              "      <td>10</td>\n",
              "      <td>N</td>\n",
              "    </tr>\n",
              "    <tr>\n",
              "      <th>10</th>\n",
              "      <td>heart</td>\n",
              "      <td>Multivariate</td>\n",
              "      <td>Classification (Binary)</td>\n",
              "      <td>DEATH</td>\n",
              "      <td>None</td>\n",
              "      <td>200</td>\n",
              "      <td>16</td>\n",
              "      <td>N</td>\n",
              "    </tr>\n",
              "    <tr>\n",
              "      <th>11</th>\n",
              "      <td>heart_disease</td>\n",
              "      <td>Multivariate</td>\n",
              "      <td>Classification (Binary)</td>\n",
              "      <td>Disease</td>\n",
              "      <td>None</td>\n",
              "      <td>270</td>\n",
              "      <td>14</td>\n",
              "      <td>N</td>\n",
              "    </tr>\n",
              "    <tr>\n",
              "      <th>12</th>\n",
              "      <td>hepatitis</td>\n",
              "      <td>Multivariate</td>\n",
              "      <td>Classification (Binary)</td>\n",
              "      <td>Class</td>\n",
              "      <td>None</td>\n",
              "      <td>154</td>\n",
              "      <td>32</td>\n",
              "      <td>Y</td>\n",
              "    </tr>\n",
              "    <tr>\n",
              "      <th>13</th>\n",
              "      <td>income</td>\n",
              "      <td>Multivariate</td>\n",
              "      <td>Classification (Binary)</td>\n",
              "      <td>income &gt;50K</td>\n",
              "      <td>None</td>\n",
              "      <td>32561</td>\n",
              "      <td>14</td>\n",
              "      <td>Y</td>\n",
              "    </tr>\n",
              "    <tr>\n",
              "      <th>14</th>\n",
              "      <td>juice</td>\n",
              "      <td>Multivariate</td>\n",
              "      <td>Classification (Binary)</td>\n",
              "      <td>Purchase</td>\n",
              "      <td>None</td>\n",
              "      <td>1070</td>\n",
              "      <td>15</td>\n",
              "      <td>N</td>\n",
              "    </tr>\n",
              "    <tr>\n",
              "      <th>15</th>\n",
              "      <td>nba</td>\n",
              "      <td>Multivariate</td>\n",
              "      <td>Classification (Binary)</td>\n",
              "      <td>TARGET_5Yrs</td>\n",
              "      <td>None</td>\n",
              "      <td>1340</td>\n",
              "      <td>21</td>\n",
              "      <td>N</td>\n",
              "    </tr>\n",
              "    <tr>\n",
              "      <th>16</th>\n",
              "      <td>wine</td>\n",
              "      <td>Multivariate</td>\n",
              "      <td>Classification (Binary)</td>\n",
              "      <td>type</td>\n",
              "      <td>None</td>\n",
              "      <td>6498</td>\n",
              "      <td>13</td>\n",
              "      <td>N</td>\n",
              "    </tr>\n",
              "    <tr>\n",
              "      <th>17</th>\n",
              "      <td>telescope</td>\n",
              "      <td>Multivariate</td>\n",
              "      <td>Classification (Binary)</td>\n",
              "      <td>Class</td>\n",
              "      <td>None</td>\n",
              "      <td>19020</td>\n",
              "      <td>11</td>\n",
              "      <td>N</td>\n",
              "    </tr>\n",
              "    <tr>\n",
              "      <th>18</th>\n",
              "      <td>titanic</td>\n",
              "      <td>Multivariate</td>\n",
              "      <td>Classification (Binary)</td>\n",
              "      <td>Survived</td>\n",
              "      <td>None</td>\n",
              "      <td>891</td>\n",
              "      <td>11</td>\n",
              "      <td>Y</td>\n",
              "    </tr>\n",
              "    <tr>\n",
              "      <th>19</th>\n",
              "      <td>us_presidential_election_results</td>\n",
              "      <td>Multivariate</td>\n",
              "      <td>Classification (Binary)</td>\n",
              "      <td>party_winner</td>\n",
              "      <td>None</td>\n",
              "      <td>497</td>\n",
              "      <td>7</td>\n",
              "      <td>N</td>\n",
              "    </tr>\n",
              "    <tr>\n",
              "      <th>20</th>\n",
              "      <td>glass</td>\n",
              "      <td>Multivariate</td>\n",
              "      <td>Classification (Multiclass)</td>\n",
              "      <td>Type</td>\n",
              "      <td>None</td>\n",
              "      <td>214</td>\n",
              "      <td>10</td>\n",
              "      <td>N</td>\n",
              "    </tr>\n",
              "    <tr>\n",
              "      <th>21</th>\n",
              "      <td>iris</td>\n",
              "      <td>Multivariate</td>\n",
              "      <td>Classification (Multiclass)</td>\n",
              "      <td>species</td>\n",
              "      <td>None</td>\n",
              "      <td>150</td>\n",
              "      <td>5</td>\n",
              "      <td>N</td>\n",
              "    </tr>\n",
              "    <tr>\n",
              "      <th>22</th>\n",
              "      <td>poker</td>\n",
              "      <td>Multivariate</td>\n",
              "      <td>Classification (Multiclass)</td>\n",
              "      <td>CLASS</td>\n",
              "      <td>None</td>\n",
              "      <td>100000</td>\n",
              "      <td>11</td>\n",
              "      <td>N</td>\n",
              "    </tr>\n",
              "    <tr>\n",
              "      <th>23</th>\n",
              "      <td>questions</td>\n",
              "      <td>Multivariate</td>\n",
              "      <td>Classification (Multiclass)</td>\n",
              "      <td>Next_Question</td>\n",
              "      <td>None</td>\n",
              "      <td>499</td>\n",
              "      <td>4</td>\n",
              "      <td>N</td>\n",
              "    </tr>\n",
              "    <tr>\n",
              "      <th>24</th>\n",
              "      <td>satellite</td>\n",
              "      <td>Multivariate</td>\n",
              "      <td>Classification (Multiclass)</td>\n",
              "      <td>Class</td>\n",
              "      <td>None</td>\n",
              "      <td>6435</td>\n",
              "      <td>37</td>\n",
              "      <td>N</td>\n",
              "    </tr>\n",
              "    <tr>\n",
              "      <th>25</th>\n",
              "      <td>CTG</td>\n",
              "      <td>Multivariate</td>\n",
              "      <td>Classification (Multiclass)</td>\n",
              "      <td>NSP</td>\n",
              "      <td>None</td>\n",
              "      <td>2129</td>\n",
              "      <td>40</td>\n",
              "      <td>Y</td>\n",
              "    </tr>\n",
              "    <tr>\n",
              "      <th>26</th>\n",
              "      <td>asia_gdp</td>\n",
              "      <td>Multivariate</td>\n",
              "      <td>Clustering</td>\n",
              "      <td>None</td>\n",
              "      <td>None</td>\n",
              "      <td>40</td>\n",
              "      <td>11</td>\n",
              "      <td>N</td>\n",
              "    </tr>\n",
              "    <tr>\n",
              "      <th>27</th>\n",
              "      <td>elections</td>\n",
              "      <td>Multivariate</td>\n",
              "      <td>Clustering</td>\n",
              "      <td>None</td>\n",
              "      <td>None</td>\n",
              "      <td>3195</td>\n",
              "      <td>54</td>\n",
              "      <td>Y</td>\n",
              "    </tr>\n",
              "    <tr>\n",
              "      <th>28</th>\n",
              "      <td>facebook</td>\n",
              "      <td>Multivariate</td>\n",
              "      <td>Clustering</td>\n",
              "      <td>None</td>\n",
              "      <td>None</td>\n",
              "      <td>7050</td>\n",
              "      <td>12</td>\n",
              "      <td>N</td>\n",
              "    </tr>\n",
              "    <tr>\n",
              "      <th>29</th>\n",
              "      <td>ipl</td>\n",
              "      <td>Multivariate</td>\n",
              "      <td>Clustering</td>\n",
              "      <td>None</td>\n",
              "      <td>None</td>\n",
              "      <td>153</td>\n",
              "      <td>25</td>\n",
              "      <td>N</td>\n",
              "    </tr>\n",
              "    <tr>\n",
              "      <th>30</th>\n",
              "      <td>jewellery</td>\n",
              "      <td>Multivariate</td>\n",
              "      <td>Clustering</td>\n",
              "      <td>None</td>\n",
              "      <td>None</td>\n",
              "      <td>505</td>\n",
              "      <td>4</td>\n",
              "      <td>N</td>\n",
              "    </tr>\n",
              "    <tr>\n",
              "      <th>31</th>\n",
              "      <td>mice</td>\n",
              "      <td>Multivariate</td>\n",
              "      <td>Clustering</td>\n",
              "      <td>None</td>\n",
              "      <td>None</td>\n",
              "      <td>1080</td>\n",
              "      <td>82</td>\n",
              "      <td>Y</td>\n",
              "    </tr>\n",
              "    <tr>\n",
              "      <th>32</th>\n",
              "      <td>migration</td>\n",
              "      <td>Multivariate</td>\n",
              "      <td>Clustering</td>\n",
              "      <td>None</td>\n",
              "      <td>None</td>\n",
              "      <td>233</td>\n",
              "      <td>12</td>\n",
              "      <td>N</td>\n",
              "    </tr>\n",
              "    <tr>\n",
              "      <th>33</th>\n",
              "      <td>perfume</td>\n",
              "      <td>Multivariate</td>\n",
              "      <td>Clustering</td>\n",
              "      <td>None</td>\n",
              "      <td>None</td>\n",
              "      <td>20</td>\n",
              "      <td>29</td>\n",
              "      <td>N</td>\n",
              "    </tr>\n",
              "    <tr>\n",
              "      <th>34</th>\n",
              "      <td>pokemon</td>\n",
              "      <td>Multivariate</td>\n",
              "      <td>Clustering</td>\n",
              "      <td>None</td>\n",
              "      <td>None</td>\n",
              "      <td>800</td>\n",
              "      <td>13</td>\n",
              "      <td>Y</td>\n",
              "    </tr>\n",
              "    <tr>\n",
              "      <th>35</th>\n",
              "      <td>population</td>\n",
              "      <td>Multivariate</td>\n",
              "      <td>Clustering</td>\n",
              "      <td>None</td>\n",
              "      <td>None</td>\n",
              "      <td>255</td>\n",
              "      <td>56</td>\n",
              "      <td>Y</td>\n",
              "    </tr>\n",
              "    <tr>\n",
              "      <th>36</th>\n",
              "      <td>public_health</td>\n",
              "      <td>Multivariate</td>\n",
              "      <td>Clustering</td>\n",
              "      <td>None</td>\n",
              "      <td>None</td>\n",
              "      <td>224</td>\n",
              "      <td>21</td>\n",
              "      <td>N</td>\n",
              "    </tr>\n",
              "    <tr>\n",
              "      <th>37</th>\n",
              "      <td>seeds</td>\n",
              "      <td>Multivariate</td>\n",
              "      <td>Clustering</td>\n",
              "      <td>None</td>\n",
              "      <td>None</td>\n",
              "      <td>210</td>\n",
              "      <td>7</td>\n",
              "      <td>N</td>\n",
              "    </tr>\n",
              "    <tr>\n",
              "      <th>38</th>\n",
              "      <td>wholesale</td>\n",
              "      <td>Multivariate</td>\n",
              "      <td>Clustering</td>\n",
              "      <td>None</td>\n",
              "      <td>None</td>\n",
              "      <td>440</td>\n",
              "      <td>8</td>\n",
              "      <td>N</td>\n",
              "    </tr>\n",
              "    <tr>\n",
              "      <th>39</th>\n",
              "      <td>tweets</td>\n",
              "      <td>Text</td>\n",
              "      <td>NLP</td>\n",
              "      <td>tweet</td>\n",
              "      <td>None</td>\n",
              "      <td>8594</td>\n",
              "      <td>2</td>\n",
              "      <td>N</td>\n",
              "    </tr>\n",
              "    <tr>\n",
              "      <th>40</th>\n",
              "      <td>amazon</td>\n",
              "      <td>Text</td>\n",
              "      <td>NLP / Classification</td>\n",
              "      <td>reviewText</td>\n",
              "      <td>None</td>\n",
              "      <td>20000</td>\n",
              "      <td>2</td>\n",
              "      <td>N</td>\n",
              "    </tr>\n",
              "    <tr>\n",
              "      <th>41</th>\n",
              "      <td>kiva</td>\n",
              "      <td>Text</td>\n",
              "      <td>NLP / Classification</td>\n",
              "      <td>en</td>\n",
              "      <td>None</td>\n",
              "      <td>6818</td>\n",
              "      <td>7</td>\n",
              "      <td>N</td>\n",
              "    </tr>\n",
              "    <tr>\n",
              "      <th>42</th>\n",
              "      <td>spx</td>\n",
              "      <td>Text</td>\n",
              "      <td>NLP / Regression</td>\n",
              "      <td>text</td>\n",
              "      <td>None</td>\n",
              "      <td>874</td>\n",
              "      <td>4</td>\n",
              "      <td>N</td>\n",
              "    </tr>\n",
              "    <tr>\n",
              "      <th>43</th>\n",
              "      <td>wikipedia</td>\n",
              "      <td>Text</td>\n",
              "      <td>NLP / Classification</td>\n",
              "      <td>Text</td>\n",
              "      <td>None</td>\n",
              "      <td>500</td>\n",
              "      <td>3</td>\n",
              "      <td>N</td>\n",
              "    </tr>\n",
              "    <tr>\n",
              "      <th>44</th>\n",
              "      <td>automobile</td>\n",
              "      <td>Multivariate</td>\n",
              "      <td>Regression</td>\n",
              "      <td>price</td>\n",
              "      <td>None</td>\n",
              "      <td>202</td>\n",
              "      <td>26</td>\n",
              "      <td>Y</td>\n",
              "    </tr>\n",
              "    <tr>\n",
              "      <th>45</th>\n",
              "      <td>bike</td>\n",
              "      <td>Multivariate</td>\n",
              "      <td>Regression</td>\n",
              "      <td>cnt</td>\n",
              "      <td>None</td>\n",
              "      <td>17379</td>\n",
              "      <td>15</td>\n",
              "      <td>N</td>\n",
              "    </tr>\n",
              "    <tr>\n",
              "      <th>46</th>\n",
              "      <td>boston</td>\n",
              "      <td>Multivariate</td>\n",
              "      <td>Regression</td>\n",
              "      <td>medv</td>\n",
              "      <td>None</td>\n",
              "      <td>506</td>\n",
              "      <td>14</td>\n",
              "      <td>N</td>\n",
              "    </tr>\n",
              "    <tr>\n",
              "      <th>47</th>\n",
              "      <td>concrete</td>\n",
              "      <td>Multivariate</td>\n",
              "      <td>Regression</td>\n",
              "      <td>strength</td>\n",
              "      <td>None</td>\n",
              "      <td>1030</td>\n",
              "      <td>9</td>\n",
              "      <td>N</td>\n",
              "    </tr>\n",
              "    <tr>\n",
              "      <th>48</th>\n",
              "      <td>diamond</td>\n",
              "      <td>Multivariate</td>\n",
              "      <td>Regression</td>\n",
              "      <td>Price</td>\n",
              "      <td>None</td>\n",
              "      <td>6000</td>\n",
              "      <td>8</td>\n",
              "      <td>N</td>\n",
              "    </tr>\n",
              "    <tr>\n",
              "      <th>49</th>\n",
              "      <td>energy</td>\n",
              "      <td>Multivariate</td>\n",
              "      <td>Regression</td>\n",
              "      <td>Heating Load</td>\n",
              "      <td>Cooling Load</td>\n",
              "      <td>768</td>\n",
              "      <td>10</td>\n",
              "      <td>N</td>\n",
              "    </tr>\n",
              "    <tr>\n",
              "      <th>50</th>\n",
              "      <td>forest</td>\n",
              "      <td>Multivariate</td>\n",
              "      <td>Regression</td>\n",
              "      <td>area</td>\n",
              "      <td>None</td>\n",
              "      <td>517</td>\n",
              "      <td>13</td>\n",
              "      <td>N</td>\n",
              "    </tr>\n",
              "    <tr>\n",
              "      <th>51</th>\n",
              "      <td>gold</td>\n",
              "      <td>Multivariate</td>\n",
              "      <td>Regression</td>\n",
              "      <td>Gold_T+22</td>\n",
              "      <td>None</td>\n",
              "      <td>2558</td>\n",
              "      <td>121</td>\n",
              "      <td>N</td>\n",
              "    </tr>\n",
              "    <tr>\n",
              "      <th>52</th>\n",
              "      <td>house</td>\n",
              "      <td>Multivariate</td>\n",
              "      <td>Regression</td>\n",
              "      <td>SalePrice</td>\n",
              "      <td>None</td>\n",
              "      <td>1461</td>\n",
              "      <td>81</td>\n",
              "      <td>Y</td>\n",
              "    </tr>\n",
              "    <tr>\n",
              "      <th>53</th>\n",
              "      <td>insurance</td>\n",
              "      <td>Multivariate</td>\n",
              "      <td>Regression</td>\n",
              "      <td>charges</td>\n",
              "      <td>None</td>\n",
              "      <td>1338</td>\n",
              "      <td>7</td>\n",
              "      <td>N</td>\n",
              "    </tr>\n",
              "    <tr>\n",
              "      <th>54</th>\n",
              "      <td>parkinsons</td>\n",
              "      <td>Multivariate</td>\n",
              "      <td>Regression</td>\n",
              "      <td>PPE</td>\n",
              "      <td>None</td>\n",
              "      <td>5875</td>\n",
              "      <td>22</td>\n",
              "      <td>N</td>\n",
              "    </tr>\n",
              "    <tr>\n",
              "      <th>55</th>\n",
              "      <td>traffic</td>\n",
              "      <td>Multivariate</td>\n",
              "      <td>Regression</td>\n",
              "      <td>traffic_volume</td>\n",
              "      <td>None</td>\n",
              "      <td>48204</td>\n",
              "      <td>8</td>\n",
              "      <td>N</td>\n",
              "    </tr>\n",
              "  </tbody>\n",
              "</table>\n",
              "</div>\n",
              "    <div class=\"colab-df-buttons\">\n",
              "\n",
              "  <div class=\"colab-df-container\">\n",
              "    <button class=\"colab-df-convert\" onclick=\"convertToInteractive('df-d46717fb-2c33-4c49-a85c-2cfe82e27364')\"\n",
              "            title=\"Convert this dataframe to an interactive table.\"\n",
              "            style=\"display:none;\">\n",
              "\n",
              "  <svg xmlns=\"http://www.w3.org/2000/svg\" height=\"24px\" viewBox=\"0 -960 960 960\">\n",
              "    <path d=\"M120-120v-720h720v720H120Zm60-500h600v-160H180v160Zm220 220h160v-160H400v160Zm0 220h160v-160H400v160ZM180-400h160v-160H180v160Zm440 0h160v-160H620v160ZM180-180h160v-160H180v160Zm440 0h160v-160H620v160Z\"/>\n",
              "  </svg>\n",
              "    </button>\n",
              "\n",
              "  <style>\n",
              "    .colab-df-container {\n",
              "      display:flex;\n",
              "      gap: 12px;\n",
              "    }\n",
              "\n",
              "    .colab-df-convert {\n",
              "      background-color: #E8F0FE;\n",
              "      border: none;\n",
              "      border-radius: 50%;\n",
              "      cursor: pointer;\n",
              "      display: none;\n",
              "      fill: #1967D2;\n",
              "      height: 32px;\n",
              "      padding: 0 0 0 0;\n",
              "      width: 32px;\n",
              "    }\n",
              "\n",
              "    .colab-df-convert:hover {\n",
              "      background-color: #E2EBFA;\n",
              "      box-shadow: 0px 1px 2px rgba(60, 64, 67, 0.3), 0px 1px 3px 1px rgba(60, 64, 67, 0.15);\n",
              "      fill: #174EA6;\n",
              "    }\n",
              "\n",
              "    .colab-df-buttons div {\n",
              "      margin-bottom: 4px;\n",
              "    }\n",
              "\n",
              "    [theme=dark] .colab-df-convert {\n",
              "      background-color: #3B4455;\n",
              "      fill: #D2E3FC;\n",
              "    }\n",
              "\n",
              "    [theme=dark] .colab-df-convert:hover {\n",
              "      background-color: #434B5C;\n",
              "      box-shadow: 0px 1px 3px 1px rgba(0, 0, 0, 0.15);\n",
              "      filter: drop-shadow(0px 1px 2px rgba(0, 0, 0, 0.3));\n",
              "      fill: #FFFFFF;\n",
              "    }\n",
              "  </style>\n",
              "\n",
              "    <script>\n",
              "      const buttonEl =\n",
              "        document.querySelector('#df-d46717fb-2c33-4c49-a85c-2cfe82e27364 button.colab-df-convert');\n",
              "      buttonEl.style.display =\n",
              "        google.colab.kernel.accessAllowed ? 'block' : 'none';\n",
              "\n",
              "      async function convertToInteractive(key) {\n",
              "        const element = document.querySelector('#df-d46717fb-2c33-4c49-a85c-2cfe82e27364');\n",
              "        const dataTable =\n",
              "          await google.colab.kernel.invokeFunction('convertToInteractive',\n",
              "                                                    [key], {});\n",
              "        if (!dataTable) return;\n",
              "\n",
              "        const docLinkHtml = 'Like what you see? Visit the ' +\n",
              "          '<a target=\"_blank\" href=https://colab.research.google.com/notebooks/data_table.ipynb>data table notebook</a>'\n",
              "          + ' to learn more about interactive tables.';\n",
              "        element.innerHTML = '';\n",
              "        dataTable['output_type'] = 'display_data';\n",
              "        await google.colab.output.renderOutput(dataTable, element);\n",
              "        const docLink = document.createElement('div');\n",
              "        docLink.innerHTML = docLinkHtml;\n",
              "        element.appendChild(docLink);\n",
              "      }\n",
              "    </script>\n",
              "  </div>\n",
              "\n",
              "\n",
              "    <div id=\"df-fa8ee846-7588-45e6-9532-4706879a9362\">\n",
              "      <button class=\"colab-df-quickchart\" onclick=\"quickchart('df-fa8ee846-7588-45e6-9532-4706879a9362')\"\n",
              "                title=\"Suggest charts\"\n",
              "                style=\"display:none;\">\n",
              "\n",
              "<svg xmlns=\"http://www.w3.org/2000/svg\" height=\"24px\"viewBox=\"0 0 24 24\"\n",
              "     width=\"24px\">\n",
              "    <g>\n",
              "        <path d=\"M19 3H5c-1.1 0-2 .9-2 2v14c0 1.1.9 2 2 2h14c1.1 0 2-.9 2-2V5c0-1.1-.9-2-2-2zM9 17H7v-7h2v7zm4 0h-2V7h2v10zm4 0h-2v-4h2v4z\"/>\n",
              "    </g>\n",
              "</svg>\n",
              "      </button>\n",
              "\n",
              "<style>\n",
              "  .colab-df-quickchart {\n",
              "      --bg-color: #E8F0FE;\n",
              "      --fill-color: #1967D2;\n",
              "      --hover-bg-color: #E2EBFA;\n",
              "      --hover-fill-color: #174EA6;\n",
              "      --disabled-fill-color: #AAA;\n",
              "      --disabled-bg-color: #DDD;\n",
              "  }\n",
              "\n",
              "  [theme=dark] .colab-df-quickchart {\n",
              "      --bg-color: #3B4455;\n",
              "      --fill-color: #D2E3FC;\n",
              "      --hover-bg-color: #434B5C;\n",
              "      --hover-fill-color: #FFFFFF;\n",
              "      --disabled-bg-color: #3B4455;\n",
              "      --disabled-fill-color: #666;\n",
              "  }\n",
              "\n",
              "  .colab-df-quickchart {\n",
              "    background-color: var(--bg-color);\n",
              "    border: none;\n",
              "    border-radius: 50%;\n",
              "    cursor: pointer;\n",
              "    display: none;\n",
              "    fill: var(--fill-color);\n",
              "    height: 32px;\n",
              "    padding: 0;\n",
              "    width: 32px;\n",
              "  }\n",
              "\n",
              "  .colab-df-quickchart:hover {\n",
              "    background-color: var(--hover-bg-color);\n",
              "    box-shadow: 0 1px 2px rgba(60, 64, 67, 0.3), 0 1px 3px 1px rgba(60, 64, 67, 0.15);\n",
              "    fill: var(--button-hover-fill-color);\n",
              "  }\n",
              "\n",
              "  .colab-df-quickchart-complete:disabled,\n",
              "  .colab-df-quickchart-complete:disabled:hover {\n",
              "    background-color: var(--disabled-bg-color);\n",
              "    fill: var(--disabled-fill-color);\n",
              "    box-shadow: none;\n",
              "  }\n",
              "\n",
              "  .colab-df-spinner {\n",
              "    border: 2px solid var(--fill-color);\n",
              "    border-color: transparent;\n",
              "    border-bottom-color: var(--fill-color);\n",
              "    animation:\n",
              "      spin 1s steps(1) infinite;\n",
              "  }\n",
              "\n",
              "  @keyframes spin {\n",
              "    0% {\n",
              "      border-color: transparent;\n",
              "      border-bottom-color: var(--fill-color);\n",
              "      border-left-color: var(--fill-color);\n",
              "    }\n",
              "    20% {\n",
              "      border-color: transparent;\n",
              "      border-left-color: var(--fill-color);\n",
              "      border-top-color: var(--fill-color);\n",
              "    }\n",
              "    30% {\n",
              "      border-color: transparent;\n",
              "      border-left-color: var(--fill-color);\n",
              "      border-top-color: var(--fill-color);\n",
              "      border-right-color: var(--fill-color);\n",
              "    }\n",
              "    40% {\n",
              "      border-color: transparent;\n",
              "      border-right-color: var(--fill-color);\n",
              "      border-top-color: var(--fill-color);\n",
              "    }\n",
              "    60% {\n",
              "      border-color: transparent;\n",
              "      border-right-color: var(--fill-color);\n",
              "    }\n",
              "    80% {\n",
              "      border-color: transparent;\n",
              "      border-right-color: var(--fill-color);\n",
              "      border-bottom-color: var(--fill-color);\n",
              "    }\n",
              "    90% {\n",
              "      border-color: transparent;\n",
              "      border-bottom-color: var(--fill-color);\n",
              "    }\n",
              "  }\n",
              "</style>\n",
              "\n",
              "      <script>\n",
              "        async function quickchart(key) {\n",
              "          const quickchartButtonEl =\n",
              "            document.querySelector('#' + key + ' button');\n",
              "          quickchartButtonEl.disabled = true;  // To prevent multiple clicks.\n",
              "          quickchartButtonEl.classList.add('colab-df-spinner');\n",
              "          try {\n",
              "            const charts = await google.colab.kernel.invokeFunction(\n",
              "                'suggestCharts', [key], {});\n",
              "          } catch (error) {\n",
              "            console.error('Error during call to suggestCharts:', error);\n",
              "          }\n",
              "          quickchartButtonEl.classList.remove('colab-df-spinner');\n",
              "          quickchartButtonEl.classList.add('colab-df-quickchart-complete');\n",
              "        }\n",
              "        (() => {\n",
              "          let quickchartButtonEl =\n",
              "            document.querySelector('#df-fa8ee846-7588-45e6-9532-4706879a9362 button');\n",
              "          quickchartButtonEl.style.display =\n",
              "            google.colab.kernel.accessAllowed ? 'block' : 'none';\n",
              "        })();\n",
              "      </script>\n",
              "    </div>\n",
              "\n",
              "    </div>\n",
              "  </div>\n"
            ],
            "application/vnd.google.colaboratory.intrinsic+json": {
              "type": "dataframe",
              "summary": "{\n  \"name\": \"all_datasets = get_data('index')\",\n  \"rows\": 56,\n  \"fields\": [\n    {\n      \"column\": \"Dataset\",\n      \"properties\": {\n        \"dtype\": \"string\",\n        \"num_unique_values\": 56,\n        \"samples\": [\n          \"anomaly\",\n          \"cancer\",\n          \"perfume\"\n        ],\n        \"semantic_type\": \"\",\n        \"description\": \"\"\n      }\n    },\n    {\n      \"column\": \"Data Types\",\n      \"properties\": {\n        \"dtype\": \"category\",\n        \"num_unique_values\": 2,\n        \"samples\": [\n          \"Text\",\n          \"Multivariate\"\n        ],\n        \"semantic_type\": \"\",\n        \"description\": \"\"\n      }\n    },\n    {\n      \"column\": \"Default Task\",\n      \"properties\": {\n        \"dtype\": \"category\",\n        \"num_unique_values\": 9,\n        \"samples\": [\n          \"NLP / Regression\",\n          \"Association Rule Mining\"\n        ],\n        \"semantic_type\": \"\",\n        \"description\": \"\"\n      }\n    },\n    {\n      \"column\": \"Target Variable 1\",\n      \"properties\": {\n        \"dtype\": \"string\",\n        \"num_unique_values\": 38,\n        \"samples\": [\n          \"Gold_T+22\",\n          \"PPE\"\n        ],\n        \"semantic_type\": \"\",\n        \"description\": \"\"\n      }\n    },\n    {\n      \"column\": \"Target Variable 2\",\n      \"properties\": {\n        \"dtype\": \"category\",\n        \"num_unique_values\": 3,\n        \"samples\": [\n          \"None\",\n          \"Description\"\n        ],\n        \"semantic_type\": \"\",\n        \"description\": \"\"\n      }\n    },\n    {\n      \"column\": \"# Instances\",\n      \"properties\": {\n        \"dtype\": \"number\",\n        \"std\": 16351,\n        \"min\": 20,\n        \"max\": 100000,\n        \"num_unique_values\": 55,\n        \"samples\": [\n          1080,\n          683\n        ],\n        \"semantic_type\": \"\",\n        \"description\": \"\"\n      }\n    },\n    {\n      \"column\": \"# Attributes\",\n      \"properties\": {\n        \"dtype\": \"number\",\n        \"std\": 21,\n        \"min\": 2,\n        \"max\": 121,\n        \"num_unique_values\": 29,\n        \"samples\": [\n          81,\n          40\n        ],\n        \"semantic_type\": \"\",\n        \"description\": \"\"\n      }\n    },\n    {\n      \"column\": \"Missing Values\",\n      \"properties\": {\n        \"dtype\": \"category\",\n        \"num_unique_values\": 2,\n        \"samples\": [\n          \"Y\",\n          \"N\"\n        ],\n        \"semantic_type\": \"\",\n        \"description\": \"\"\n      }\n    }\n  ]\n}"
            }
          },
          "metadata": {}
        }
      ]
    },
    {
      "cell_type": "markdown",
      "metadata": {
        "id": "UjvBYy0Lim1m"
      },
      "source": [
        "### **(b) Get the version of the pycaret**"
      ]
    },
    {
      "cell_type": "code",
      "execution_count": 5,
      "metadata": {
        "id": "NHB2KMhZim1o",
        "colab": {
          "base_uri": "https://localhost:8080/",
          "height": 36
        },
        "outputId": "2b68f18e-e1d3-4b0e-b1c6-0542f1f14321"
      },
      "outputs": [
        {
          "output_type": "execute_result",
          "data": {
            "text/plain": [
              "'3.3.2'"
            ],
            "application/vnd.google.colaboratory.intrinsic+json": {
              "type": "string"
            }
          },
          "metadata": {},
          "execution_count": 5
        }
      ],
      "source": [
        "from pycaret.utils import version\n",
        "version()"
      ]
    },
    {
      "cell_type": "markdown",
      "metadata": {
        "id": "BTLd3s--im1c"
      },
      "source": [
        "---\n",
        "# **1. Regression: Basics**\n",
        "---\n",
        "### **1.1 Get the list of datasets available in pycaret (Total Datasets = 56)**\n",
        "\n",
        "\n"
      ]
    },
    {
      "cell_type": "code",
      "execution_count": 6,
      "metadata": {
        "id": "veBU-f21im1x"
      },
      "outputs": [],
      "source": [
        "import pandas as pd\n",
        "myDataSet = pd.read_csv('/content/yo10.csv')\n"
      ]
    },
    {
      "cell_type": "markdown",
      "metadata": {
        "id": "nRWYsJNVim1z"
      },
      "source": [
        "---\n",
        "### **1.2 Get the \"boston\" dataset (Step-I)**\n",
        "---"
      ]
    },
    {
      "cell_type": "code",
      "execution_count": 7,
      "metadata": {
        "id": "41abL1k-im10",
        "scrolled": true,
        "colab": {
          "base_uri": "https://localhost:8080/",
          "height": 206
        },
        "outputId": "ee6e72fa-8ea9-4c02-ee20-47624d9e4357"
      },
      "outputs": [
        {
          "output_type": "display_data",
          "data": {
            "text/plain": [
              "      crim    zn  indus  chas    nox     rm   age     dis  rad  tax  ptratio  \\\n",
              "0  0.00632  18.0   2.31     0  0.538  6.575  65.2  4.0900    1  296     15.3   \n",
              "1  0.02731   0.0   7.07     0  0.469  6.421  78.9  4.9671    2  242     17.8   \n",
              "2  0.02729   0.0   7.07     0  0.469  7.185  61.1  4.9671    2  242     17.8   \n",
              "3  0.03237   0.0   2.18     0  0.458  6.998  45.8  6.0622    3  222     18.7   \n",
              "4  0.06905   0.0   2.18     0  0.458  7.147  54.2  6.0622    3  222     18.7   \n",
              "\n",
              "    black  lstat  medv  \n",
              "0  396.90   4.98  24.0  \n",
              "1  396.90   9.14  21.6  \n",
              "2  392.83   4.03  34.7  \n",
              "3  394.63   2.94  33.4  \n",
              "4  396.90   5.33  36.2  "
            ],
            "text/html": [
              "\n",
              "  <div id=\"df-ae5b0f71-23df-4403-bba8-b10cc1f4b17c\" class=\"colab-df-container\">\n",
              "    <div>\n",
              "<style scoped>\n",
              "    .dataframe tbody tr th:only-of-type {\n",
              "        vertical-align: middle;\n",
              "    }\n",
              "\n",
              "    .dataframe tbody tr th {\n",
              "        vertical-align: top;\n",
              "    }\n",
              "\n",
              "    .dataframe thead th {\n",
              "        text-align: right;\n",
              "    }\n",
              "</style>\n",
              "<table border=\"1\" class=\"dataframe\">\n",
              "  <thead>\n",
              "    <tr style=\"text-align: right;\">\n",
              "      <th></th>\n",
              "      <th>crim</th>\n",
              "      <th>zn</th>\n",
              "      <th>indus</th>\n",
              "      <th>chas</th>\n",
              "      <th>nox</th>\n",
              "      <th>rm</th>\n",
              "      <th>age</th>\n",
              "      <th>dis</th>\n",
              "      <th>rad</th>\n",
              "      <th>tax</th>\n",
              "      <th>ptratio</th>\n",
              "      <th>black</th>\n",
              "      <th>lstat</th>\n",
              "      <th>medv</th>\n",
              "    </tr>\n",
              "  </thead>\n",
              "  <tbody>\n",
              "    <tr>\n",
              "      <th>0</th>\n",
              "      <td>0.00632</td>\n",
              "      <td>18.0</td>\n",
              "      <td>2.31</td>\n",
              "      <td>0</td>\n",
              "      <td>0.538</td>\n",
              "      <td>6.575</td>\n",
              "      <td>65.2</td>\n",
              "      <td>4.0900</td>\n",
              "      <td>1</td>\n",
              "      <td>296</td>\n",
              "      <td>15.3</td>\n",
              "      <td>396.90</td>\n",
              "      <td>4.98</td>\n",
              "      <td>24.0</td>\n",
              "    </tr>\n",
              "    <tr>\n",
              "      <th>1</th>\n",
              "      <td>0.02731</td>\n",
              "      <td>0.0</td>\n",
              "      <td>7.07</td>\n",
              "      <td>0</td>\n",
              "      <td>0.469</td>\n",
              "      <td>6.421</td>\n",
              "      <td>78.9</td>\n",
              "      <td>4.9671</td>\n",
              "      <td>2</td>\n",
              "      <td>242</td>\n",
              "      <td>17.8</td>\n",
              "      <td>396.90</td>\n",
              "      <td>9.14</td>\n",
              "      <td>21.6</td>\n",
              "    </tr>\n",
              "    <tr>\n",
              "      <th>2</th>\n",
              "      <td>0.02729</td>\n",
              "      <td>0.0</td>\n",
              "      <td>7.07</td>\n",
              "      <td>0</td>\n",
              "      <td>0.469</td>\n",
              "      <td>7.185</td>\n",
              "      <td>61.1</td>\n",
              "      <td>4.9671</td>\n",
              "      <td>2</td>\n",
              "      <td>242</td>\n",
              "      <td>17.8</td>\n",
              "      <td>392.83</td>\n",
              "      <td>4.03</td>\n",
              "      <td>34.7</td>\n",
              "    </tr>\n",
              "    <tr>\n",
              "      <th>3</th>\n",
              "      <td>0.03237</td>\n",
              "      <td>0.0</td>\n",
              "      <td>2.18</td>\n",
              "      <td>0</td>\n",
              "      <td>0.458</td>\n",
              "      <td>6.998</td>\n",
              "      <td>45.8</td>\n",
              "      <td>6.0622</td>\n",
              "      <td>3</td>\n",
              "      <td>222</td>\n",
              "      <td>18.7</td>\n",
              "      <td>394.63</td>\n",
              "      <td>2.94</td>\n",
              "      <td>33.4</td>\n",
              "    </tr>\n",
              "    <tr>\n",
              "      <th>4</th>\n",
              "      <td>0.06905</td>\n",
              "      <td>0.0</td>\n",
              "      <td>2.18</td>\n",
              "      <td>0</td>\n",
              "      <td>0.458</td>\n",
              "      <td>7.147</td>\n",
              "      <td>54.2</td>\n",
              "      <td>6.0622</td>\n",
              "      <td>3</td>\n",
              "      <td>222</td>\n",
              "      <td>18.7</td>\n",
              "      <td>396.90</td>\n",
              "      <td>5.33</td>\n",
              "      <td>36.2</td>\n",
              "    </tr>\n",
              "  </tbody>\n",
              "</table>\n",
              "</div>\n",
              "    <div class=\"colab-df-buttons\">\n",
              "\n",
              "  <div class=\"colab-df-container\">\n",
              "    <button class=\"colab-df-convert\" onclick=\"convertToInteractive('df-ae5b0f71-23df-4403-bba8-b10cc1f4b17c')\"\n",
              "            title=\"Convert this dataframe to an interactive table.\"\n",
              "            style=\"display:none;\">\n",
              "\n",
              "  <svg xmlns=\"http://www.w3.org/2000/svg\" height=\"24px\" viewBox=\"0 -960 960 960\">\n",
              "    <path d=\"M120-120v-720h720v720H120Zm60-500h600v-160H180v160Zm220 220h160v-160H400v160Zm0 220h160v-160H400v160ZM180-400h160v-160H180v160Zm440 0h160v-160H620v160ZM180-180h160v-160H180v160Zm440 0h160v-160H620v160Z\"/>\n",
              "  </svg>\n",
              "    </button>\n",
              "\n",
              "  <style>\n",
              "    .colab-df-container {\n",
              "      display:flex;\n",
              "      gap: 12px;\n",
              "    }\n",
              "\n",
              "    .colab-df-convert {\n",
              "      background-color: #E8F0FE;\n",
              "      border: none;\n",
              "      border-radius: 50%;\n",
              "      cursor: pointer;\n",
              "      display: none;\n",
              "      fill: #1967D2;\n",
              "      height: 32px;\n",
              "      padding: 0 0 0 0;\n",
              "      width: 32px;\n",
              "    }\n",
              "\n",
              "    .colab-df-convert:hover {\n",
              "      background-color: #E2EBFA;\n",
              "      box-shadow: 0px 1px 2px rgba(60, 64, 67, 0.3), 0px 1px 3px 1px rgba(60, 64, 67, 0.15);\n",
              "      fill: #174EA6;\n",
              "    }\n",
              "\n",
              "    .colab-df-buttons div {\n",
              "      margin-bottom: 4px;\n",
              "    }\n",
              "\n",
              "    [theme=dark] .colab-df-convert {\n",
              "      background-color: #3B4455;\n",
              "      fill: #D2E3FC;\n",
              "    }\n",
              "\n",
              "    [theme=dark] .colab-df-convert:hover {\n",
              "      background-color: #434B5C;\n",
              "      box-shadow: 0px 1px 3px 1px rgba(0, 0, 0, 0.15);\n",
              "      filter: drop-shadow(0px 1px 2px rgba(0, 0, 0, 0.3));\n",
              "      fill: #FFFFFF;\n",
              "    }\n",
              "  </style>\n",
              "\n",
              "    <script>\n",
              "      const buttonEl =\n",
              "        document.querySelector('#df-ae5b0f71-23df-4403-bba8-b10cc1f4b17c button.colab-df-convert');\n",
              "      buttonEl.style.display =\n",
              "        google.colab.kernel.accessAllowed ? 'block' : 'none';\n",
              "\n",
              "      async function convertToInteractive(key) {\n",
              "        const element = document.querySelector('#df-ae5b0f71-23df-4403-bba8-b10cc1f4b17c');\n",
              "        const dataTable =\n",
              "          await google.colab.kernel.invokeFunction('convertToInteractive',\n",
              "                                                    [key], {});\n",
              "        if (!dataTable) return;\n",
              "\n",
              "        const docLinkHtml = 'Like what you see? Visit the ' +\n",
              "          '<a target=\"_blank\" href=https://colab.research.google.com/notebooks/data_table.ipynb>data table notebook</a>'\n",
              "          + ' to learn more about interactive tables.';\n",
              "        element.innerHTML = '';\n",
              "        dataTable['output_type'] = 'display_data';\n",
              "        await google.colab.output.renderOutput(dataTable, element);\n",
              "        const docLink = document.createElement('div');\n",
              "        docLink.innerHTML = docLinkHtml;\n",
              "        element.appendChild(docLink);\n",
              "      }\n",
              "    </script>\n",
              "  </div>\n",
              "\n",
              "\n",
              "    <div id=\"df-5c32bee4-6ce1-4149-b6fd-df7900474ef4\">\n",
              "      <button class=\"colab-df-quickchart\" onclick=\"quickchart('df-5c32bee4-6ce1-4149-b6fd-df7900474ef4')\"\n",
              "                title=\"Suggest charts\"\n",
              "                style=\"display:none;\">\n",
              "\n",
              "<svg xmlns=\"http://www.w3.org/2000/svg\" height=\"24px\"viewBox=\"0 0 24 24\"\n",
              "     width=\"24px\">\n",
              "    <g>\n",
              "        <path d=\"M19 3H5c-1.1 0-2 .9-2 2v14c0 1.1.9 2 2 2h14c1.1 0 2-.9 2-2V5c0-1.1-.9-2-2-2zM9 17H7v-7h2v7zm4 0h-2V7h2v10zm4 0h-2v-4h2v4z\"/>\n",
              "    </g>\n",
              "</svg>\n",
              "      </button>\n",
              "\n",
              "<style>\n",
              "  .colab-df-quickchart {\n",
              "      --bg-color: #E8F0FE;\n",
              "      --fill-color: #1967D2;\n",
              "      --hover-bg-color: #E2EBFA;\n",
              "      --hover-fill-color: #174EA6;\n",
              "      --disabled-fill-color: #AAA;\n",
              "      --disabled-bg-color: #DDD;\n",
              "  }\n",
              "\n",
              "  [theme=dark] .colab-df-quickchart {\n",
              "      --bg-color: #3B4455;\n",
              "      --fill-color: #D2E3FC;\n",
              "      --hover-bg-color: #434B5C;\n",
              "      --hover-fill-color: #FFFFFF;\n",
              "      --disabled-bg-color: #3B4455;\n",
              "      --disabled-fill-color: #666;\n",
              "  }\n",
              "\n",
              "  .colab-df-quickchart {\n",
              "    background-color: var(--bg-color);\n",
              "    border: none;\n",
              "    border-radius: 50%;\n",
              "    cursor: pointer;\n",
              "    display: none;\n",
              "    fill: var(--fill-color);\n",
              "    height: 32px;\n",
              "    padding: 0;\n",
              "    width: 32px;\n",
              "  }\n",
              "\n",
              "  .colab-df-quickchart:hover {\n",
              "    background-color: var(--hover-bg-color);\n",
              "    box-shadow: 0 1px 2px rgba(60, 64, 67, 0.3), 0 1px 3px 1px rgba(60, 64, 67, 0.15);\n",
              "    fill: var(--button-hover-fill-color);\n",
              "  }\n",
              "\n",
              "  .colab-df-quickchart-complete:disabled,\n",
              "  .colab-df-quickchart-complete:disabled:hover {\n",
              "    background-color: var(--disabled-bg-color);\n",
              "    fill: var(--disabled-fill-color);\n",
              "    box-shadow: none;\n",
              "  }\n",
              "\n",
              "  .colab-df-spinner {\n",
              "    border: 2px solid var(--fill-color);\n",
              "    border-color: transparent;\n",
              "    border-bottom-color: var(--fill-color);\n",
              "    animation:\n",
              "      spin 1s steps(1) infinite;\n",
              "  }\n",
              "\n",
              "  @keyframes spin {\n",
              "    0% {\n",
              "      border-color: transparent;\n",
              "      border-bottom-color: var(--fill-color);\n",
              "      border-left-color: var(--fill-color);\n",
              "    }\n",
              "    20% {\n",
              "      border-color: transparent;\n",
              "      border-left-color: var(--fill-color);\n",
              "      border-top-color: var(--fill-color);\n",
              "    }\n",
              "    30% {\n",
              "      border-color: transparent;\n",
              "      border-left-color: var(--fill-color);\n",
              "      border-top-color: var(--fill-color);\n",
              "      border-right-color: var(--fill-color);\n",
              "    }\n",
              "    40% {\n",
              "      border-color: transparent;\n",
              "      border-right-color: var(--fill-color);\n",
              "      border-top-color: var(--fill-color);\n",
              "    }\n",
              "    60% {\n",
              "      border-color: transparent;\n",
              "      border-right-color: var(--fill-color);\n",
              "    }\n",
              "    80% {\n",
              "      border-color: transparent;\n",
              "      border-right-color: var(--fill-color);\n",
              "      border-bottom-color: var(--fill-color);\n",
              "    }\n",
              "    90% {\n",
              "      border-color: transparent;\n",
              "      border-bottom-color: var(--fill-color);\n",
              "    }\n",
              "  }\n",
              "</style>\n",
              "\n",
              "      <script>\n",
              "        async function quickchart(key) {\n",
              "          const quickchartButtonEl =\n",
              "            document.querySelector('#' + key + ' button');\n",
              "          quickchartButtonEl.disabled = true;  // To prevent multiple clicks.\n",
              "          quickchartButtonEl.classList.add('colab-df-spinner');\n",
              "          try {\n",
              "            const charts = await google.colab.kernel.invokeFunction(\n",
              "                'suggestCharts', [key], {});\n",
              "          } catch (error) {\n",
              "            console.error('Error during call to suggestCharts:', error);\n",
              "          }\n",
              "          quickchartButtonEl.classList.remove('colab-df-spinner');\n",
              "          quickchartButtonEl.classList.add('colab-df-quickchart-complete');\n",
              "        }\n",
              "        (() => {\n",
              "          let quickchartButtonEl =\n",
              "            document.querySelector('#df-5c32bee4-6ce1-4149-b6fd-df7900474ef4 button');\n",
              "          quickchartButtonEl.style.display =\n",
              "            google.colab.kernel.accessAllowed ? 'block' : 'none';\n",
              "        })();\n",
              "      </script>\n",
              "    </div>\n",
              "\n",
              "    </div>\n",
              "  </div>\n"
            ],
            "application/vnd.google.colaboratory.intrinsic+json": {
              "type": "dataframe",
              "summary": "{\n  \"name\": \"# \\\"medv\\\" is the target column\",\n  \"rows\": 5,\n  \"fields\": [\n    {\n      \"column\": \"crim\",\n      \"properties\": {\n        \"dtype\": \"number\",\n        \"std\": 0.02277820712874479,\n        \"min\": 0.00632,\n        \"max\": 0.06905,\n        \"num_unique_values\": 5,\n        \"samples\": [\n          0.02731,\n          0.06905,\n          0.02729\n        ],\n        \"semantic_type\": \"\",\n        \"description\": \"\"\n      }\n    },\n    {\n      \"column\": \"zn\",\n      \"properties\": {\n        \"dtype\": \"number\",\n        \"std\": 8.049844718999244,\n        \"min\": 0.0,\n        \"max\": 18.0,\n        \"num_unique_values\": 2,\n        \"samples\": [\n          0.0,\n          18.0\n        ],\n        \"semantic_type\": \"\",\n        \"description\": \"\"\n      }\n    },\n    {\n      \"column\": \"indus\",\n      \"properties\": {\n        \"dtype\": \"number\",\n        \"std\": 2.6551591289412393,\n        \"min\": 2.18,\n        \"max\": 7.07,\n        \"num_unique_values\": 3,\n        \"samples\": [\n          2.31,\n          7.07\n        ],\n        \"semantic_type\": \"\",\n        \"description\": \"\"\n      }\n    },\n    {\n      \"column\": \"chas\",\n      \"properties\": {\n        \"dtype\": \"number\",\n        \"std\": 0,\n        \"min\": 0,\n        \"max\": 0,\n        \"num_unique_values\": 1,\n        \"samples\": [\n          0\n        ],\n        \"semantic_type\": \"\",\n        \"description\": \"\"\n      }\n    },\n    {\n      \"column\": \"nox\",\n      \"properties\": {\n        \"dtype\": \"number\",\n        \"std\": 0.03376832835661252,\n        \"min\": 0.458,\n        \"max\": 0.538,\n        \"num_unique_values\": 3,\n        \"samples\": [\n          0.538\n        ],\n        \"semantic_type\": \"\",\n        \"description\": \"\"\n      }\n    },\n    {\n      \"column\": \"rm\",\n      \"properties\": {\n        \"dtype\": \"number\",\n        \"std\": 0.3467163105479751,\n        \"min\": 6.421,\n        \"max\": 7.185,\n        \"num_unique_values\": 5,\n        \"samples\": [\n          6.421\n        ],\n        \"semantic_type\": \"\",\n        \"description\": \"\"\n      }\n    },\n    {\n      \"column\": \"age\",\n      \"properties\": {\n        \"dtype\": \"number\",\n        \"std\": 12.402943199095933,\n        \"min\": 45.8,\n        \"max\": 78.9,\n        \"num_unique_values\": 5,\n        \"samples\": [\n          78.9\n        ],\n        \"semantic_type\": \"\",\n        \"description\": \"\"\n      }\n    },\n    {\n      \"column\": \"dis\",\n      \"properties\": {\n        \"dtype\": \"number\",\n        \"std\": 0.8400812621407525,\n        \"min\": 4.09,\n        \"max\": 6.0622,\n        \"num_unique_values\": 3,\n        \"samples\": [\n          4.09\n        ],\n        \"semantic_type\": \"\",\n        \"description\": \"\"\n      }\n    },\n    {\n      \"column\": \"rad\",\n      \"properties\": {\n        \"dtype\": \"number\",\n        \"std\": 0,\n        \"min\": 1,\n        \"max\": 3,\n        \"num_unique_values\": 3,\n        \"samples\": [\n          1\n        ],\n        \"semantic_type\": \"\",\n        \"description\": \"\"\n      }\n    },\n    {\n      \"column\": \"tax\",\n      \"properties\": {\n        \"dtype\": \"number\",\n        \"std\": 30,\n        \"min\": 222,\n        \"max\": 296,\n        \"num_unique_values\": 3,\n        \"samples\": [\n          296\n        ],\n        \"semantic_type\": \"\",\n        \"description\": \"\"\n      }\n    },\n    {\n      \"column\": \"ptratio\",\n      \"properties\": {\n        \"dtype\": \"number\",\n        \"std\": 1.393915348936225,\n        \"min\": 15.3,\n        \"max\": 18.7,\n        \"num_unique_values\": 3,\n        \"samples\": [\n          15.3\n        ],\n        \"semantic_type\": \"\",\n        \"description\": \"\"\n      }\n    },\n    {\n      \"column\": \"black\",\n      \"properties\": {\n        \"dtype\": \"number\",\n        \"std\": 1.8492349769566823,\n        \"min\": 392.83,\n        \"max\": 396.9,\n        \"num_unique_values\": 3,\n        \"samples\": [\n          396.9\n        ],\n        \"semantic_type\": \"\",\n        \"description\": \"\"\n      }\n    },\n    {\n      \"column\": \"lstat\",\n      \"properties\": {\n        \"dtype\": \"number\",\n        \"std\": 2.346812732196585,\n        \"min\": 2.94,\n        \"max\": 9.14,\n        \"num_unique_values\": 5,\n        \"samples\": [\n          9.14\n        ],\n        \"semantic_type\": \"\",\n        \"description\": \"\"\n      }\n    },\n    {\n      \"column\": \"medv\",\n      \"properties\": {\n        \"dtype\": \"number\",\n        \"std\": 6.682963414534005,\n        \"min\": 21.6,\n        \"max\": 36.2,\n        \"num_unique_values\": 5,\n        \"samples\": [\n          21.6\n        ],\n        \"semantic_type\": \"\",\n        \"description\": \"\"\n      }\n    }\n  ]\n}"
            }
          },
          "metadata": {}
        }
      ],
      "source": [
        "myDataSet = get_data(\"boston\")    # SN is 46\n",
        "\n",
        "# This is supervised dataset.\n",
        "# \"medv\" is the target column."
      ]
    },
    {
      "cell_type": "markdown",
      "metadata": {
        "id": "NqHOIj0GBeDR"
      },
      "source": [
        "---\n",
        "### **1.3 Save and Download the dataset to local system**\n",
        "---"
      ]
    },
    {
      "cell_type": "code",
      "execution_count": 8,
      "metadata": {
        "id": "Y2Dfn2ONBfjE"
      },
      "outputs": [],
      "source": [
        "myDataSet.to_csv(\"myDataSet.csv\")\n",
        "\n",
        "# Download from \"Files\" Folder"
      ]
    },
    {
      "cell_type": "markdown",
      "metadata": {
        "id": "E3BNV7YLim12"
      },
      "source": [
        "---\n",
        "### **1.4 Parameter setting for all models (Step-II)**\n",
        "- ##### **Train/Test division, applying data pre-processing** {Sampling, Normalization, Transformation, PCA, Handaling of Outliers, Feature Selection}\n",
        "---"
      ]
    },
    {
      "cell_type": "code",
      "execution_count": 9,
      "metadata": {
        "id": "c6KthRB9im14",
        "colab": {
          "base_uri": "https://localhost:8080/",
          "height": 645
        },
        "outputId": "2e23e195-7ad1-4b60-c6d1-0ead2b44d8e2"
      },
      "outputs": [
        {
          "output_type": "display_data",
          "data": {
            "text/plain": [
              "<pandas.io.formats.style.Styler at 0x7bd584f77f90>"
            ],
            "text/html": [
              "<style type=\"text/css\">\n",
              "#T_e118b_row8_col1 {\n",
              "  background-color: lightgreen;\n",
              "}\n",
              "</style>\n",
              "<table id=\"T_e118b\" class=\"dataframe\">\n",
              "  <thead>\n",
              "    <tr>\n",
              "      <th class=\"blank level0\" >&nbsp;</th>\n",
              "      <th id=\"T_e118b_level0_col0\" class=\"col_heading level0 col0\" >Description</th>\n",
              "      <th id=\"T_e118b_level0_col1\" class=\"col_heading level0 col1\" >Value</th>\n",
              "    </tr>\n",
              "  </thead>\n",
              "  <tbody>\n",
              "    <tr>\n",
              "      <th id=\"T_e118b_level0_row0\" class=\"row_heading level0 row0\" >0</th>\n",
              "      <td id=\"T_e118b_row0_col0\" class=\"data row0 col0\" >Session id</td>\n",
              "      <td id=\"T_e118b_row0_col1\" class=\"data row0 col1\" >3561</td>\n",
              "    </tr>\n",
              "    <tr>\n",
              "      <th id=\"T_e118b_level0_row1\" class=\"row_heading level0 row1\" >1</th>\n",
              "      <td id=\"T_e118b_row1_col0\" class=\"data row1 col0\" >Target</td>\n",
              "      <td id=\"T_e118b_row1_col1\" class=\"data row1 col1\" >medv</td>\n",
              "    </tr>\n",
              "    <tr>\n",
              "      <th id=\"T_e118b_level0_row2\" class=\"row_heading level0 row2\" >2</th>\n",
              "      <td id=\"T_e118b_row2_col0\" class=\"data row2 col0\" >Target type</td>\n",
              "      <td id=\"T_e118b_row2_col1\" class=\"data row2 col1\" >Regression</td>\n",
              "    </tr>\n",
              "    <tr>\n",
              "      <th id=\"T_e118b_level0_row3\" class=\"row_heading level0 row3\" >3</th>\n",
              "      <td id=\"T_e118b_row3_col0\" class=\"data row3 col0\" >Original data shape</td>\n",
              "      <td id=\"T_e118b_row3_col1\" class=\"data row3 col1\" >(506, 14)</td>\n",
              "    </tr>\n",
              "    <tr>\n",
              "      <th id=\"T_e118b_level0_row4\" class=\"row_heading level0 row4\" >4</th>\n",
              "      <td id=\"T_e118b_row4_col0\" class=\"data row4 col0\" >Transformed data shape</td>\n",
              "      <td id=\"T_e118b_row4_col1\" class=\"data row4 col1\" >(506, 14)</td>\n",
              "    </tr>\n",
              "    <tr>\n",
              "      <th id=\"T_e118b_level0_row5\" class=\"row_heading level0 row5\" >5</th>\n",
              "      <td id=\"T_e118b_row5_col0\" class=\"data row5 col0\" >Transformed train set shape</td>\n",
              "      <td id=\"T_e118b_row5_col1\" class=\"data row5 col1\" >(354, 14)</td>\n",
              "    </tr>\n",
              "    <tr>\n",
              "      <th id=\"T_e118b_level0_row6\" class=\"row_heading level0 row6\" >6</th>\n",
              "      <td id=\"T_e118b_row6_col0\" class=\"data row6 col0\" >Transformed test set shape</td>\n",
              "      <td id=\"T_e118b_row6_col1\" class=\"data row6 col1\" >(152, 14)</td>\n",
              "    </tr>\n",
              "    <tr>\n",
              "      <th id=\"T_e118b_level0_row7\" class=\"row_heading level0 row7\" >7</th>\n",
              "      <td id=\"T_e118b_row7_col0\" class=\"data row7 col0\" >Numeric features</td>\n",
              "      <td id=\"T_e118b_row7_col1\" class=\"data row7 col1\" >13</td>\n",
              "    </tr>\n",
              "    <tr>\n",
              "      <th id=\"T_e118b_level0_row8\" class=\"row_heading level0 row8\" >8</th>\n",
              "      <td id=\"T_e118b_row8_col0\" class=\"data row8 col0\" >Preprocess</td>\n",
              "      <td id=\"T_e118b_row8_col1\" class=\"data row8 col1\" >True</td>\n",
              "    </tr>\n",
              "    <tr>\n",
              "      <th id=\"T_e118b_level0_row9\" class=\"row_heading level0 row9\" >9</th>\n",
              "      <td id=\"T_e118b_row9_col0\" class=\"data row9 col0\" >Imputation type</td>\n",
              "      <td id=\"T_e118b_row9_col1\" class=\"data row9 col1\" >simple</td>\n",
              "    </tr>\n",
              "    <tr>\n",
              "      <th id=\"T_e118b_level0_row10\" class=\"row_heading level0 row10\" >10</th>\n",
              "      <td id=\"T_e118b_row10_col0\" class=\"data row10 col0\" >Numeric imputation</td>\n",
              "      <td id=\"T_e118b_row10_col1\" class=\"data row10 col1\" >mean</td>\n",
              "    </tr>\n",
              "    <tr>\n",
              "      <th id=\"T_e118b_level0_row11\" class=\"row_heading level0 row11\" >11</th>\n",
              "      <td id=\"T_e118b_row11_col0\" class=\"data row11 col0\" >Categorical imputation</td>\n",
              "      <td id=\"T_e118b_row11_col1\" class=\"data row11 col1\" >mode</td>\n",
              "    </tr>\n",
              "    <tr>\n",
              "      <th id=\"T_e118b_level0_row12\" class=\"row_heading level0 row12\" >12</th>\n",
              "      <td id=\"T_e118b_row12_col0\" class=\"data row12 col0\" >Fold Generator</td>\n",
              "      <td id=\"T_e118b_row12_col1\" class=\"data row12 col1\" >KFold</td>\n",
              "    </tr>\n",
              "    <tr>\n",
              "      <th id=\"T_e118b_level0_row13\" class=\"row_heading level0 row13\" >13</th>\n",
              "      <td id=\"T_e118b_row13_col0\" class=\"data row13 col0\" >Fold Number</td>\n",
              "      <td id=\"T_e118b_row13_col1\" class=\"data row13 col1\" >10</td>\n",
              "    </tr>\n",
              "    <tr>\n",
              "      <th id=\"T_e118b_level0_row14\" class=\"row_heading level0 row14\" >14</th>\n",
              "      <td id=\"T_e118b_row14_col0\" class=\"data row14 col0\" >CPU Jobs</td>\n",
              "      <td id=\"T_e118b_row14_col1\" class=\"data row14 col1\" >-1</td>\n",
              "    </tr>\n",
              "    <tr>\n",
              "      <th id=\"T_e118b_level0_row15\" class=\"row_heading level0 row15\" >15</th>\n",
              "      <td id=\"T_e118b_row15_col0\" class=\"data row15 col0\" >Use GPU</td>\n",
              "      <td id=\"T_e118b_row15_col1\" class=\"data row15 col1\" >False</td>\n",
              "    </tr>\n",
              "    <tr>\n",
              "      <th id=\"T_e118b_level0_row16\" class=\"row_heading level0 row16\" >16</th>\n",
              "      <td id=\"T_e118b_row16_col0\" class=\"data row16 col0\" >Log Experiment</td>\n",
              "      <td id=\"T_e118b_row16_col1\" class=\"data row16 col1\" >False</td>\n",
              "    </tr>\n",
              "    <tr>\n",
              "      <th id=\"T_e118b_level0_row17\" class=\"row_heading level0 row17\" >17</th>\n",
              "      <td id=\"T_e118b_row17_col0\" class=\"data row17 col0\" >Experiment Name</td>\n",
              "      <td id=\"T_e118b_row17_col1\" class=\"data row17 col1\" >reg-default-name</td>\n",
              "    </tr>\n",
              "    <tr>\n",
              "      <th id=\"T_e118b_level0_row18\" class=\"row_heading level0 row18\" >18</th>\n",
              "      <td id=\"T_e118b_row18_col0\" class=\"data row18 col0\" >USI</td>\n",
              "      <td id=\"T_e118b_row18_col1\" class=\"data row18 col1\" >0c05</td>\n",
              "    </tr>\n",
              "  </tbody>\n",
              "</table>\n"
            ]
          },
          "metadata": {}
        }
      ],
      "source": [
        "from pycaret.regression import *\n",
        "s = setup(data =  myDataSet, target = 'medv')\n",
        "\n",
        "# Comment the above line-code and Uncomment below line-code and re-run it\n",
        "#s = setup(data =  myDataSet, target = 'medv', train_size = 0.7, data_split_shuffle = False)\n",
        "\n",
        "# Other Parameters:\n",
        "# train_size = 0.7\n",
        "# data_split_shuffle = False"
      ]
    },
    {
      "cell_type": "markdown",
      "metadata": {
        "id": "Kaevs6ROim18"
      },
      "source": [
        "---\n",
        "### **1.5 Run all models (Step-III)**\n",
        "---"
      ]
    },
    {
      "cell_type": "code",
      "execution_count": null,
      "metadata": {
        "id": "XmPJbrOXim19"
      },
      "outputs": [],
      "source": [
        "cm = compare_models()"
      ]
    },
    {
      "cell_type": "markdown",
      "metadata": {
        "id": "w8BLSpegim1_"
      },
      "source": [
        "---\n",
        "### **1.6 \"Three line of code\" for model comparison for \"Boston\" dataset**\n",
        "---\n",
        "\n"
      ]
    },
    {
      "cell_type": "code",
      "execution_count": null,
      "metadata": {
        "id": "QPY6bvTsim1_"
      },
      "outputs": [],
      "source": [
        "from pycaret.datasets import get_data\n",
        "from pycaret.regression import *\n",
        "\n",
        "myDataSet = get_data(\"boston\", verbose = False)\n",
        "\n",
        "setup(data = myDataSet, target = 'medv',\n",
        "      train_size = 0.7,\n",
        "      data_split_shuffle = False,\n",
        "      verbose = False)\n",
        "\n",
        "cm = compare_models()"
      ]
    },
    {
      "cell_type": "markdown",
      "metadata": {
        "id": "3Ij2kL4zoMG4"
      },
      "source": [
        "---\n",
        "### **1.7 \"Three line of code\" for model comparison for \"Insurance\" dataset**\n",
        "---\n",
        "\n"
      ]
    },
    {
      "cell_type": "code",
      "execution_count": null,
      "metadata": {
        "id": "MnJrgvdkoMG9"
      },
      "outputs": [],
      "source": [
        "from pycaret.datasets import get_data\n",
        "from pycaret.regression import *\n",
        "\n",
        "myDataSet = get_data(\"insurance\", verbose = False)\n",
        "\n",
        "setup(data = myDataSet, target = 'charges',\n",
        "      train_size = 0.7,\n",
        "      data_split_shuffle = False,\n",
        "      verbose = False)\n",
        "\n",
        "cm = compare_models()"
      ]
    },
    {
      "cell_type": "markdown",
      "metadata": {
        "id": "aIIVJHZC3k4b"
      },
      "source": [
        "---\n",
        "### **1.8 List all available models in pycaret**\n",
        "---\n",
        "\n"
      ]
    },
    {
      "cell_type": "code",
      "execution_count": null,
      "metadata": {
        "id": "2d0IzyPP3k4c"
      },
      "outputs": [],
      "source": [
        "models()"
      ]
    },
    {
      "cell_type": "markdown",
      "metadata": {
        "id": "9GWuAHd7xQ8i"
      },
      "source": [
        "---\n",
        "# **2. Regression: working with user dataset**\n",
        "---\n"
      ]
    },
    {
      "cell_type": "code",
      "execution_count": null,
      "metadata": {
        "id": "6ztv-AJdmhcf",
        "scrolled": true
      },
      "outputs": [],
      "source": [
        "from pycaret.regression import *\n",
        "import pandas as pd\n",
        "\n",
        "# First upload the user file (myDataSet.csv) in the colab\n",
        "\n",
        "#myDataSet = pd.read_csv(\"myDataSet.csv\")                       # Uncomment and execute\n",
        "#s = setup(data = myDataSet, target = 'RMSD', verbose=False)      # Uncomment and execute\n",
        "#cm = compare_models()                                          # Uncomment and execute"
      ]
    },
    {
      "cell_type": "markdown",
      "metadata": {
        "id": "zUfHO4wKim1_"
      },
      "source": [
        "---\n",
        "# **3. Regression: Apply \"Data Preprocessing\"**\n",
        "---\n",
        "\n",
        "### **3.1 Model performance using \"Normalization\"**"
      ]
    },
    {
      "cell_type": "code",
      "execution_count": null,
      "metadata": {
        "id": "Atd6jNvmim2A"
      },
      "outputs": [],
      "source": [
        "from pycaret.datasets import get_data\n",
        "from pycaret.regression import *\n",
        "myDataSet = get_data(\"boston\", verbose = False)\n",
        "\n",
        "setup(data = myDataSet, target = 'medv',\n",
        "      normalize = True,\n",
        "      normalize_method = 'zscore',\n",
        "      verbose = False)\n",
        "\n",
        "cm = compare_models()\n",
        "\n",
        "# Re-run the code again for different parameters\n",
        "# normalize_method = {zscore, minmax, maxabs, robust}"
      ]
    },
    {
      "cell_type": "markdown",
      "metadata": {
        "id": "Nf8L2_EnRyKX"
      },
      "source": [
        "---\n",
        "####**Explore more parameters of \"setup()\" on pycaret**\n",
        "---\n",
        "- Explore setup() paramaeters in **Step 1.3**\n",
        "- **<a href=\"https://pycaret.readthedocs.io/en/latest/api/regression.html\" target=\"_blank\"> Click Here</a>** for more"
      ]
    },
    {
      "cell_type": "markdown",
      "metadata": {
        "id": "oWMPU3KMim2B"
      },
      "source": [
        "---\n",
        "### **3.2 Visualize Feature importance**\n",
        "---"
      ]
    },
    {
      "cell_type": "code",
      "source": [
        "from pycaret.datasets import get_data\n",
        "from pycaret.regression import *\n",
        "\n",
        "myDataSet = get_data(\"boston\", verbose = False)\n",
        "setup(data = myDataSet, target='medv', verbose = False)\n",
        "\n",
        "rfModel = create_model('rf', verbose = False)\n",
        "\n",
        "plot_model(rfModel, plot = 'feature')"
      ],
      "metadata": {
        "id": "oojHWHpEJLjV"
      },
      "execution_count": null,
      "outputs": []
    },
    {
      "cell_type": "markdown",
      "metadata": {
        "id": "5y7bTnRcxhy2"
      },
      "source": [
        "---\n",
        "### **3.3 Model performance using \"Feature Selection\"**\n",
        "---"
      ]
    },
    {
      "cell_type": "code",
      "execution_count": null,
      "metadata": {
        "id": "43l42fj_im2C"
      },
      "outputs": [],
      "source": [
        "from pycaret.datasets import get_data\n",
        "from pycaret.regression import *\n",
        "myDataSet = get_data(\"boston\", verbose = False)\n",
        "\n",
        "setup(data = myDataSet, target = 'medv',\n",
        "      feature_selection = True,\n",
        "      feature_selection_method = 'univariate',\n",
        "      n_features_to_select = 0.2,\n",
        "      verbose = False)\n",
        "\n",
        "cm = compare_models()\n",
        "\n",
        "\n",
        "# Re-run the code again for different parameters\n",
        "# feature_selection_method = {univariate, classic, sequential}\n",
        "# n_features_to_select = {0.1, 0.2, 0.3, 0.4, 0.5, ..... }"
      ]
    },
    {
      "cell_type": "markdown",
      "metadata": {
        "id": "kt034D2wim2C"
      },
      "source": [
        "---\n",
        "### **3.3 Model performance using \"Outlier Removal\"**\n",
        "---"
      ]
    },
    {
      "cell_type": "code",
      "execution_count": null,
      "metadata": {
        "id": "oAaDhJctim2D"
      },
      "outputs": [],
      "source": [
        "from pycaret.datasets import get_data\n",
        "from pycaret.regression import *\n",
        "myDataSet = get_data(\"boston\", verbose = False)\n",
        "\n",
        "setup(data = myDataSet, target = 'medv',\n",
        "      remove_outliers = True,\n",
        "      outliers_method = \"iforest\",\n",
        "      outliers_threshold = 0.05,\n",
        "      verbose = False)\n",
        "\n",
        "cm = compare_models()\n",
        "\n",
        "# Re-run the code again for different parameters\n",
        "# outliers_threshold = {0.04, 0.05, 0.06, 0.07, 0.08, ....}\n",
        "# outliers_method = {iforest, ee, lof}"
      ]
    },
    {
      "cell_type": "markdown",
      "metadata": {
        "id": "Tp1zLWiFim2D"
      },
      "source": [
        "---\n",
        "### **3.4 Model performance using \"Transformation\"**\n",
        "---"
      ]
    },
    {
      "cell_type": "code",
      "execution_count": null,
      "metadata": {
        "id": "TAe7byNYim2D"
      },
      "outputs": [],
      "source": [
        "from pycaret.datasets import get_data\n",
        "from pycaret.regression import *\n",
        "myDataSet = get_data(\"boston\", verbose = False)\n",
        "\n",
        "setup(data = myDataSet, target = 'medv',\n",
        "      transformation = True,\n",
        "      transformation_method = 'yeo-johnson',\n",
        "      verbose = False)\n",
        "\n",
        "cm = compare_models()\n",
        "\n",
        "# transformation_method = {yeo-johnson, quantile}"
      ]
    },
    {
      "cell_type": "markdown",
      "metadata": {
        "id": "9IIR2eMyim2E"
      },
      "source": [
        "---\n",
        "### **3.5 Model performance using \"PCA\"**\n",
        "---"
      ]
    },
    {
      "cell_type": "code",
      "execution_count": null,
      "metadata": {
        "id": "IbRChxn3im2E"
      },
      "outputs": [],
      "source": [
        "from pycaret.datasets import get_data\n",
        "from pycaret.regression import *\n",
        "myDataSet = get_data(\"boston\", verbose = False)\n",
        "\n",
        "setup(data = myDataSet, target = 'medv',\n",
        "      pca = True,\n",
        "      pca_method = 'linear',\n",
        "      verbose = False)\n",
        "\n",
        "cm = compare_models()\n",
        "\n",
        "# Re-run the code again for different parameters\n",
        "# pca_method = (linear, kernel, incremental)"
      ]
    },
    {
      "cell_type": "markdown",
      "metadata": {
        "id": "5KwCI6ZkAFMx"
      },
      "source": [
        "---\n",
        "### **3.6 Model performance using \"Outlier Removal\" + \"Normalization\"**\n",
        "---"
      ]
    },
    {
      "cell_type": "code",
      "execution_count": null,
      "metadata": {
        "id": "9XFmW3nyAFM2"
      },
      "outputs": [],
      "source": [
        "from pycaret.datasets import get_data\n",
        "from pycaret.regression import *\n",
        "myDataSet = get_data(\"boston\", verbose = False)\n",
        "\n",
        "setup(data = myDataSet, target = 'medv',\n",
        "      remove_outliers = True,\n",
        "      outliers_threshold = 0.05,\n",
        "      normalize = True,\n",
        "      normalize_method = 'zscore',\n",
        "      data_split_shuffle = False,\n",
        "      fold = 2,\n",
        "      verbose = False)\n",
        "\n",
        "cm = compare_models()\n",
        "\n",
        "\n",
        "# Question: Does order of the data preprocessing matters ???"
      ]
    },
    {
      "cell_type": "markdown",
      "metadata": {
        "id": "5Awx0XwltEvn"
      },
      "source": [
        "---\n",
        "### **3.7 Model performance using \"Outlier Removal\" +  \"Normalization\" + \"Transformation\"**\n",
        "---"
      ]
    },
    {
      "cell_type": "code",
      "execution_count": null,
      "metadata": {
        "id": "qoSbD33ktEvw"
      },
      "outputs": [],
      "source": [
        "from pycaret.datasets import get_data\n",
        "from pycaret.regression import *\n",
        "myDataSet = get_data(\"boston\", verbose = False)\n",
        "\n",
        "setup(data = myDataSet, target = 'medv',\n",
        "      remove_outliers = True,\n",
        "      outliers_threshold = 0.05,\n",
        "      normalize = True,\n",
        "      normalize_method = 'zscore',\n",
        "      transformation = True,\n",
        "      transformation_method = 'yeo-johnson',\n",
        "      data_split_shuffle = False,\n",
        "      fold = 2,\n",
        "      verbose = False)\n",
        "\n",
        "cm = compare_models()"
      ]
    },
    {
      "cell_type": "markdown",
      "metadata": {
        "id": "CvrwTU8iuLM6"
      },
      "source": [
        "---\n",
        "### **3.8 Explore more parameters of \"setup()\" on pycaret**\n",
        "---\n",
        "- Explore setup() paramaeters in **Step 1.3**\n",
        "- **<a href=\"https://pycaret.readthedocs.io/en/latest/api/regression.html\" target=\"_blank\"> Click Here</a>** for more (Right Click on the link and click on \"Open Link in New Window\")"
      ]
    },
    {
      "cell_type": "markdown",
      "metadata": {
        "id": "tiTcc636im2F"
      },
      "source": [
        "---\n",
        "# **4. Regression: More Operations**\n",
        "---\n",
        "### **4.1 Build a single model - \"RandomForest\"**"
      ]
    },
    {
      "cell_type": "code",
      "execution_count": null,
      "metadata": {
        "id": "DxkGGGthim2G"
      },
      "outputs": [],
      "source": [
        "from pycaret.datasets import get_data\n",
        "from pycaret.regression import *\n",
        "myDataSet = get_data(\"boston\", verbose = False)\n",
        "\n",
        "setup(data =  myDataSet, target = 'medv', verbose = False)\n",
        "\n",
        "rfModel = create_model('rf')\n",
        "# Explore more parameters"
      ]
    },
    {
      "cell_type": "markdown",
      "metadata": {
        "id": "6zi9OUp0im2G"
      },
      "source": [
        "---\n",
        "### **4.2 Other available regression models**\n",
        "---\n",
        "-\t'ada' - AdaBoost Regressor\n",
        "-\t'br' - Bayesian Ridge\n",
        "-\t'dt' - Decision Tree Regressor\n",
        "-\t'en'\t- Elastic Net\n",
        "-\t'et' - Extra Trees Regressor\n",
        "-\t'gbr' - Gradient Boosting Regressor\n",
        "-\t'huber' - Huber Regressor\n",
        "-\t'knn' - K Neighbors Regressor\n",
        "-\t'llar' - Lasso Least Angle Regression\n",
        "-\t'lasso' - Lasso Regression\n",
        "-\t'lar' - Least Angle Regression\n",
        "-\t'lightgbm'\t- Light Gradient Boosting Machine\n",
        "-\t'lr' - Linear Regression\n",
        "-\t'omp' - Orthogonal Matching Pursuit\n",
        "-\t'par' - Passive Aggressive Regressor\n",
        "-\t'rf' - Random Forest Regressor\n",
        "-\t'ridge' - Ridge Regression"
      ]
    },
    {
      "cell_type": "markdown",
      "metadata": {
        "id": "SOgkFMblyyhB"
      },
      "source": [
        "---\n",
        "### **4.3 Explore more parameters of \"create_model()\" on pycaret**\n",
        "---\n",
        "\n",
        "**<a href=\"https://pycaret.readthedocs.io/en/latest/api/regression.html#pycaret.regression.create_model\" target=\"_blank\"> Click Here</a>**"
      ]
    },
    {
      "cell_type": "markdown",
      "metadata": {
        "id": "bbQmlQYcim2L"
      },
      "source": [
        "---\n",
        "### **4.4 Make prediction on the \"new unseen dataset\"**\n",
        "---\n",
        "#### **Get the \"new unseen dataset\"**\n",
        "\n"
      ]
    },
    {
      "cell_type": "code",
      "execution_count": null,
      "metadata": {
        "id": "ukwXEWlAim2O"
      },
      "outputs": [],
      "source": [
        "# Select top 10 rows from boston dataset\n",
        "newDataSet = get_data(\"boston\").iloc[:10]"
      ]
    },
    {
      "cell_type": "markdown",
      "metadata": {
        "id": "lL8CWgH3im2P"
      },
      "source": [
        "#### **Make prediction on \"new unseen dataset\"**"
      ]
    },
    {
      "cell_type": "code",
      "execution_count": null,
      "metadata": {
        "id": "Nk-dR5Fhim2P"
      },
      "outputs": [],
      "source": [
        "newPredictions = predict_model(rfModel, data = newDataSet)\n",
        "newPredictions"
      ]
    },
    {
      "cell_type": "markdown",
      "metadata": {
        "id": "a4TVz1fVim2Q"
      },
      "source": [
        "---\n",
        "### **4.5 \"Scatter plot\" b/w actual and predicted**\n",
        "---"
      ]
    },
    {
      "cell_type": "code",
      "execution_count": null,
      "metadata": {
        "id": "WFhRhiM0im2Q"
      },
      "outputs": [],
      "source": [
        "import matplotlib.pyplot as plt\n",
        "\n",
        "predicted = newPredictions.iloc[:,-1]     # Last column\n",
        "actual = newPredictions.iloc[:,-2]        # 2nd last column\n",
        "\n",
        "plt.scatter(actual, predicted)\n",
        "plt.xlabel('Predicted')\n",
        "plt.ylabel('Actual')\n",
        "plt.title('Actul Vs Predicted')\n",
        "plt.savefig(\"result-scatter-plot.jpg\", dpi = 300)\n",
        "plt.show()"
      ]
    },
    {
      "cell_type": "markdown",
      "metadata": {
        "id": "McwAM2j7im2R"
      },
      "source": [
        "---\n",
        "### **4.6 \"Save\" the prediction result**\n",
        "---"
      ]
    },
    {
      "cell_type": "code",
      "execution_count": null,
      "metadata": {
        "id": "-RXICkjAim2R"
      },
      "outputs": [],
      "source": [
        "from google.colab import files\n",
        "\n",
        "newPredictions.to_csv(\"NewPredictions.csv\", index = False)       # Uncomment and run again"
      ]
    },
    {
      "cell_type": "markdown",
      "metadata": {
        "id": "dk9htsA9im2H"
      },
      "source": [
        "---\n",
        "### **4.7 \"Save\" the trained model**\n",
        "---"
      ]
    },
    {
      "cell_type": "code",
      "execution_count": null,
      "metadata": {
        "id": "997MLzZGim2H"
      },
      "outputs": [],
      "source": [
        "sm = save_model(rfModel, 'rfModelFile')      # Uncomment and run again"
      ]
    },
    {
      "cell_type": "markdown",
      "metadata": {
        "id": "MZHQ7kF2im2I"
      },
      "source": [
        "---\n",
        "### **4.8  \"Upload the trained model\" --> \"Load the model\"  --> \"Make the prediction\" on \"new unseen dataset\"**\n",
        "---\n",
        "### **4.8.1 Upload the  \"Trained Model\"**\n"
      ]
    },
    {
      "cell_type": "code",
      "execution_count": null,
      "metadata": {
        "id": "n7Ksv1Z2rCQc"
      },
      "outputs": [],
      "source": [
        "# Upload the trained model rfModelFile.pkl in the colab"
      ]
    },
    {
      "cell_type": "markdown",
      "metadata": {
        "id": "MVGmLPxpMHF1"
      },
      "source": [
        "---\n",
        "### **4.8.2 Load the \"Model\"**\n",
        "---"
      ]
    },
    {
      "cell_type": "code",
      "execution_count": null,
      "metadata": {
        "id": "q15mq4tcim2J"
      },
      "outputs": [],
      "source": [
        "#rfModel = load_model('rfModelFile') # Uncomment and run again"
      ]
    },
    {
      "cell_type": "markdown",
      "metadata": {
        "id": "Br8cNWiaMf0P"
      },
      "source": [
        "---\n",
        "### **4.8.3 Make the prediction on \"new unseen dataset\"**\n",
        "---"
      ]
    },
    {
      "cell_type": "code",
      "execution_count": null,
      "metadata": {
        "id": "ymYG7gs8Mf0Q"
      },
      "outputs": [],
      "source": [
        "#newPredictions = predict_model(rfModel, data = newDataSet)    # Uncomment and run again\n",
        "#newPredictions            # Uncomment and run again"
      ]
    },
    {
      "cell_type": "markdown",
      "metadata": {
        "id": "tvnzKUXKim2R"
      },
      "source": [
        "---\n",
        "# **5. Plot the trained model**\n",
        "---\n",
        "**Following parameters can be plot for a trained model**\n",
        "\n",
        "- Prediction Error Plot    - 'error'\n",
        "- Learning Curve           - 'learning'\n",
        "- Validation Curve         - 'vc'\n",
        "- Feature Importance       - 'feature'\n",
        "- Model Hyperparameter     - 'parameter'"
      ]
    },
    {
      "cell_type": "markdown",
      "metadata": {
        "id": "3V830Svhim2R"
      },
      "source": [
        "---\n",
        "### **5.1 Create RandomForest model or any other model**\n",
        "---"
      ]
    },
    {
      "cell_type": "code",
      "execution_count": null,
      "metadata": {
        "id": "H0c__zBjim2S"
      },
      "outputs": [],
      "source": [
        "rfModel = create_model('rf')"
      ]
    },
    {
      "cell_type": "markdown",
      "metadata": {
        "id": "-RuUMIm2im2S"
      },
      "source": [
        "---\n",
        "### **5.2 Plot the \"error\"**\n",
        "---"
      ]
    },
    {
      "cell_type": "code",
      "execution_count": null,
      "metadata": {
        "id": "cDcFbCCGim2T"
      },
      "outputs": [],
      "source": [
        "plot_model(rfModel, plot='error')"
      ]
    },
    {
      "cell_type": "markdown",
      "metadata": {
        "id": "tTHlyeJFim2U"
      },
      "source": [
        "---\n",
        "### **5.3 Plot the \"learning curve\"**\n",
        "---"
      ]
    },
    {
      "cell_type": "code",
      "execution_count": null,
      "metadata": {
        "id": "AArgjedYim2U"
      },
      "outputs": [],
      "source": [
        "plot_model(rfModel, plot='learning')"
      ]
    },
    {
      "cell_type": "markdown",
      "metadata": {
        "id": "OXdNdg6I-0T3"
      },
      "source": [
        "---\n",
        "### **5.4 Plot the \"validation curve\"**\n",
        "---"
      ]
    },
    {
      "cell_type": "code",
      "execution_count": null,
      "metadata": {
        "id": "Xicye76Bim2V"
      },
      "outputs": [],
      "source": [
        "plot_model(rfModel, plot='vc')"
      ]
    },
    {
      "cell_type": "markdown",
      "metadata": {
        "id": "eUXaDeoL4mlw"
      },
      "source": [
        "---\n",
        "### **5.5 Get the model \"parameters\"**\n",
        "---"
      ]
    },
    {
      "cell_type": "code",
      "execution_count": null,
      "metadata": {
        "id": "GpfVxNKA4ml3"
      },
      "outputs": [],
      "source": [
        "plot_model(rfModel, plot='parameter')"
      ]
    },
    {
      "cell_type": "markdown",
      "metadata": {
        "id": "A8EhMMY7tL15"
      },
      "source": [
        "---\n",
        "### **5.6 Explore the more parameters of \"plot_model()\" on pycaret**\n",
        "---\n",
        "**<a href=\"https://pycaret.readthedocs.io/en/latest/api/regression.html#pycaret.regression.plot_model\" target=\"_blank\"> Click Here </a>**"
      ]
    },
    {
      "cell_type": "markdown",
      "metadata": {
        "id": "AsVAOsgc_LbO"
      },
      "source": [
        "---\n",
        "# **6. Feature Importance**\n",
        "---\n",
        "### **6.1 Feature Importance using \"Random Forest\"**\n"
      ]
    },
    {
      "cell_type": "code",
      "execution_count": null,
      "metadata": {
        "id": "f9OQ4GiGim2W"
      },
      "outputs": [],
      "source": [
        "rfModel = create_model('rf', verbose=False)\n",
        "plot_model(rfModel, plot='feature')"
      ]
    },
    {
      "cell_type": "markdown",
      "metadata": {
        "id": "bAQByaGaim2X"
      },
      "source": [
        "---\n",
        "### **6.2 Feature Importance using \"Extra Trees Regressor\"**\n",
        "---"
      ]
    },
    {
      "cell_type": "code",
      "execution_count": null,
      "metadata": {
        "id": "H1gfOY8tim2X"
      },
      "outputs": [],
      "source": [
        "etModel = create_model('et', verbose=False)\n",
        "plot_model(etModel, plot='feature')"
      ]
    },
    {
      "cell_type": "markdown",
      "metadata": {
        "id": "3SrR7evnim2X"
      },
      "source": [
        "---\n",
        "### **6.3 Feature Importance using \"Decision Tree\"**\n",
        "---"
      ]
    },
    {
      "cell_type": "code",
      "execution_count": null,
      "metadata": {
        "id": "XJFxiIhUim2X"
      },
      "outputs": [],
      "source": [
        "dtModel = create_model('dt', verbose=False)\n",
        "plot_model(dtModel, plot='feature')"
      ]
    },
    {
      "cell_type": "markdown",
      "metadata": {
        "id": "eoYnuzrcLDx4"
      },
      "source": [
        "---\n",
        "# **7. Tune/Optimize the model performance**\n",
        "---\n",
        "### **7.1 Train \"Decision Tree\" with default parameters**\n"
      ]
    },
    {
      "cell_type": "code",
      "execution_count": null,
      "metadata": {
        "id": "itaCP4yPLDx-"
      },
      "outputs": [],
      "source": [
        "dtModel = create_model('dt')"
      ]
    },
    {
      "cell_type": "markdown",
      "metadata": {
        "id": "KBWk2aKyLDyA"
      },
      "source": [
        "#### **Get the \"parameters\" of Decision Tree**"
      ]
    },
    {
      "cell_type": "code",
      "execution_count": null,
      "metadata": {
        "id": "Je3ABt9cLDyC"
      },
      "outputs": [],
      "source": [
        "plot_model(dtModel, plot = 'parameter')"
      ]
    },
    {
      "cell_type": "markdown",
      "metadata": {
        "id": "W0TsqU0QLDyD"
      },
      "source": [
        "---\n",
        "### **7.2 Tune \"Decision Tree\" model**\n",
        "---"
      ]
    },
    {
      "cell_type": "code",
      "execution_count": null,
      "metadata": {
        "id": "ugxaxz0oLDyE"
      },
      "outputs": [],
      "source": [
        "dtModelTuned = tune_model(dtModel, n_iter = 50)"
      ]
    },
    {
      "cell_type": "markdown",
      "metadata": {
        "id": "khusRJwOQc0K"
      },
      "source": [
        "#### **Get the \"tuned parameters\" of Decision Tree**"
      ]
    },
    {
      "cell_type": "code",
      "execution_count": null,
      "metadata": {
        "id": "1x3FC2eeQc0L"
      },
      "outputs": [],
      "source": [
        "plot_model(dtModelTuned, plot = 'parameter')"
      ]
    },
    {
      "cell_type": "markdown",
      "metadata": {
        "id": "FPtPrnT-Q-z1"
      },
      "source": [
        "---\n",
        "### **7.3 Explore more parameters of \"tune_model()\" on pycaret**\n",
        "---\n",
        "**<a href=\"https://pycaret.readthedocs.io/en/latest/api/regression.html#pycaret.regression.tune_model\" target=\"_blank\"> Click Here </a>**"
      ]
    },
    {
      "cell_type": "markdown",
      "metadata": {
        "id": "hICikRsyim2Z"
      },
      "source": [
        "---\n",
        "# **8. AutoML - Advanced Machine Learning**\n",
        "---\n",
        "\n",
        "- Select n Best Models:\n",
        "  - Ensemble, Stacking, Begging, Blending\n",
        "  - Auto tune the best n models\n",
        "\n",
        "**<a href=\"https://pycaret.readthedocs.io/en/latest/api/regression.html#pycaret.regression.automl\" target=\"_blank\">Click Here</a>**\n"
      ]
    },
    {
      "cell_type": "markdown",
      "metadata": {
        "id": "UgDkSm_VP5Hy"
      },
      "source": [
        "---\n",
        "# **9. Deploy the model on AWS / Azure**\n",
        "---\n",
        "**<a href=\"https://pycaret.readthedocs.io/en/latest/api/regression.html#pycaret.regression.deploy_model\" target=\"_blank\">Click Here</a>**\n"
      ]
    },
    {
      "cell_type": "code",
      "source": [
        "def clean_notebook_for_github(notebook_filename):\n",
        "    \"\"\"\n",
        "    Cleans notebook metadata so it displays correctly on GitHub.\n",
        "    Example: clean_notebook_for_github('MyNotebook.ipynb')\n",
        "    \"\"\"\n",
        "    !pip install -q nbstripout &> /dev/null\n",
        "    print(f\"\\nCleaning notebook: {notebook_filename}\\n\")\n",
        "    !nbstripout {notebook_filename}\n",
        "    print(\"\\n✅ Done! You can now push to GitHub — it will render correctly.\\n\")\n",
        "\n",
        "clean_notebook_for_github('/content/01-Regression.ipynb')"
      ],
      "metadata": {
        "id": "9okFzG5fWCgQ"
      },
      "execution_count": null,
      "outputs": []
    }
  ],
  "metadata": {
    "colab": {
      "provenance": [],
      "gpuType": "T4",
      "include_colab_link": true
    },
    "kernelspec": {
      "display_name": "Python 3",
      "name": "python3"
    },
    "language_info": {
      "codemirror_mode": {
        "name": "ipython",
        "version": 3
      },
      "file_extension": ".py",
      "mimetype": "text/x-python",
      "name": "python",
      "nbconvert_exporter": "python",
      "pygments_lexer": "ipython3",
      "version": "3.8.5"
    },
    "accelerator": "GPU"
  },
  "nbformat": 4,
  "nbformat_minor": 0
}